{
 "cells": [
  {
   "cell_type": "markdown",
   "id": "2146ace1",
   "metadata": {},
   "source": [
    "# 1. Import data and libraries"
   ]
  },
  {
   "cell_type": "code",
   "execution_count": 2,
   "id": "b8274418",
   "metadata": {},
   "outputs": [],
   "source": [
    "# Import libraries\n",
    "\n",
    "import pandas as pd\n",
    "import numpy as np\n",
    "import os\n",
    "import matplotlib.pyplot as plt\n",
    "import seaborn as sns\n",
    "import scipy"
   ]
  },
  {
   "cell_type": "code",
   "execution_count": 5,
   "id": "45004bf5",
   "metadata": {},
   "outputs": [],
   "source": [
    "path = r'/Users/seyda/Documents/Instacard Basket Analysis'"
   ]
  },
  {
   "cell_type": "code",
   "execution_count": 6,
   "id": "6e7b2968",
   "metadata": {},
   "outputs": [],
   "source": [
    "# Import data\n",
    "ords_prods_merge = pd.read_pickle(os.path.join(path, '02 Data', 'Prepared Data', 'customer_orders_products_merged.pkl'))"
   ]
  },
  {
   "cell_type": "markdown",
   "id": "33b60b70",
   "metadata": {},
   "source": [
    "# 2.  Creating bar charts"
   ]
  },
  {
   "cell_type": "code",
   "execution_count": 13,
   "id": "4aa38011",
   "metadata": {},
   "outputs": [
    {
     "data": {
      "text/plain": [
       "<AxesSubplot:>"
      ]
     },
     "execution_count": 13,
     "metadata": {},
     "output_type": "execute_result"
    },
    {
     "data": {
      "image/png": "[encoded data removed]",
      "text/plain": [
       "<Figure size 432x288 with 1 Axes>"
      ]
     },
     "metadata": {
      "needs_background": "light"
     },
     "output_type": "display_data"
    }
   ],
   "source": [
    "ords_prods_merge['order_day_of_week'].value_counts().plot.bar()"
   ]
  },
  {
   "cell_type": "code",
   "execution_count": 14,
   "id": "95fd03b6",
   "metadata": {},
   "outputs": [
    {
     "data": {
      "text/plain": [
       "<AxesSubplot:>"
      ]
     },
     "execution_count": 14,
     "metadata": {},
     "output_type": "execute_result"
    },
    {
     "data": {
      "image/png": "[encoded data removed]",
      "text/plain": [
       "<Figure size 432x288 with 1 Axes>"
      ]
     },
     "metadata": {
      "needs_background": "light"
     },
     "output_type": "display_data"
    }
   ],
   "source": [
    "ords_prods_merge['order_day_of_week'].value_counts().sort_index().plot.bar()"
   ]
  },
  {
   "cell_type": "code",
   "execution_count": 11,
   "id": "75277075",
   "metadata": {},
   "outputs": [
    {
     "data": {
      "text/plain": [
       "<AxesSubplot:>"
      ]
     },
     "execution_count": 11,
     "metadata": {},
     "output_type": "execute_result"
    },
    {
     "data": {
      "image/png": "[encoded data removed]",
      "text/plain": [
       "<Figure size 432x288 with 1 Axes>"
      ]
     },
     "metadata": {
      "needs_background": "light"
     },
     "output_type": "display_data"
    }
   ],
   "source": [
    "ords_prods_merge['order_day_of_week'].value_counts().sort_index().plot.bar(color = ['purple', 'red', 'pink','orange', 'yellow','green', 'blue'])"
   ]
  },
  {
   "cell_type": "markdown",
   "id": "b89ff1be",
   "metadata": {},
   "source": [
    "# Exporting charts"
   ]
  },
  {
   "cell_type": "code",
   "execution_count": 45,
   "id": "b94d0e7f",
   "metadata": {},
   "outputs": [
    {
     "data": {
      "image/png": "[encoded data removed]",
      "text/plain": [
       "<Figure size 432x288 with 1 Axes>"
      ]
     },
     "metadata": {
      "needs_background": "light"
     },
     "output_type": "display_data"
    }
   ],
   "source": [
    "bar = ords_prods_merge['order_day_of_week'].value_counts().plot.bar(color =['purple', 'red', 'pink', 'orange', 'yellow', 'green', 'blue'])"
   ]
  },
  {
   "cell_type": "code",
   "execution_count": 17,
   "id": "2d3d3522",
   "metadata": {},
   "outputs": [],
   "source": [
    "bar.figure.savefig(os.path.join(path, '04 Analysis','Visualizations', 'bar_orders_dow.png'))"
   ]
  },
  {
   "cell_type": "markdown",
   "id": "9abc95bf",
   "metadata": {},
   "source": [
    "# 2. Creating Histograms"
   ]
  },
  {
   "cell_type": "code",
   "execution_count": 18,
   "id": "f35ad6e6",
   "metadata": {},
   "outputs": [
    {
     "data": {
      "text/plain": [
       "<AxesSubplot:ylabel='Frequency'>"
      ]
     },
     "execution_count": 18,
     "metadata": {},
     "output_type": "execute_result"
    },
    {
     "data": {
      "image/png": "[encoded data removed]",
      "text/plain": [
       "<Figure size 432x288 with 1 Axes>"
      ]
     },
     "metadata": {
      "needs_background": "light"
     },
     "output_type": "display_data"
    }
   ],
   "source": [
    "ords_prods_merge['prices'].plot.hist(bins = 25)\n"
   ]
  },
  {
   "cell_type": "code",
   "execution_count": 19,
   "id": "7e2057c6",
   "metadata": {},
   "outputs": [
    {
     "data": {
      "text/plain": [
       "count    3.240486e+07\n",
       "mean     1.198023e+01\n",
       "std      4.956554e+02\n",
       "min      1.000000e+00\n",
       "25%      4.200000e+00\n",
       "50%      7.400000e+00\n",
       "75%      1.130000e+01\n",
       "max      9.999900e+04\n",
       "Name: prices, dtype: float64"
      ]
     },
     "execution_count": 19,
     "metadata": {},
     "output_type": "execute_result"
    }
   ],
   "source": [
    "ords_prods_merge['prices'].describe()"
   ]
  },
  {
   "cell_type": "code",
   "execution_count": 20,
   "id": "459bfdb5",
   "metadata": {},
   "outputs": [
    {
     "data": {
      "text/plain": [
       "11.98022563865405"
      ]
     },
     "execution_count": 20,
     "metadata": {},
     "output_type": "execute_result"
    }
   ],
   "source": [
    "ords_prods_merge['prices'].mean()"
   ]
  },
  {
   "cell_type": "code",
   "execution_count": 21,
   "id": "f9ad697e",
   "metadata": {},
   "outputs": [
    {
     "data": {
      "text/plain": [
       "7.4"
      ]
     },
     "execution_count": 21,
     "metadata": {},
     "output_type": "execute_result"
    }
   ],
   "source": [
    "ords_prods_merge['prices'].median()"
   ]
  },
  {
   "cell_type": "code",
   "execution_count": 22,
   "id": "5b5c2c45",
   "metadata": {},
   "outputs": [
    {
     "data": {
      "text/plain": [
       "99999.0"
      ]
     },
     "execution_count": 22,
     "metadata": {},
     "output_type": "execute_result"
    }
   ],
   "source": [
    "ords_prods_merge['prices'].max()"
   ]
  },
  {
   "cell_type": "code",
   "execution_count": 23,
   "id": "ad0d0acd",
   "metadata": {},
   "outputs": [
    {
     "data": {
      "text/plain": [
       "<AxesSubplot:xlabel='prices', ylabel='prices'>"
      ]
     },
     "execution_count": 23,
     "metadata": {},
     "output_type": "execute_result"
    },
    {
     "data": {
      "image/png": "[encoded data removed]",
      "text/plain": [
       "<Figure size 432x288 with 1 Axes>"
      ]
     },
     "metadata": {
      "needs_background": "light"
     },
     "output_type": "display_data"
    }
   ],
   "source": [
    "# using scatterplots to see outliers\n",
    "sns.scatterplot(x = 'prices', y = 'prices',data = ords_prods_merge)"
   ]
  },
  {
   "cell_type": "code",
   "execution_count": 27,
   "id": "5c7522da",
   "metadata": {},
   "outputs": [
    {
     "data": {
      "text/html": [
       "<div>\n",
       "<style scoped>\n",
       "    .dataframe tbody tr th:only-of-type {\n",
       "        vertical-align: middle;\n",
       "    }\n",
       "\n",
       "    .dataframe tbody tr th {\n",
       "        vertical-align: top;\n",
       "    }\n",
       "\n",
       "    .dataframe thead th {\n",
       "        text-align: right;\n",
       "    }\n",
       "</style>\n",
       "<table border=\"1\" class=\"dataframe\">\n",
       "  <thead>\n",
       "    <tr style=\"text-align: right;\">\n",
       "      <th></th>\n",
       "      <th>order_id</th>\n",
       "      <th>user_id</th>\n",
       "      <th>order_number</th>\n",
       "      <th>order_day_of_week</th>\n",
       "      <th>order_hour_of_day</th>\n",
       "      <th>days_since_prior_order</th>\n",
       "      <th>product_id</th>\n",
       "      <th>add_to_cart_order</th>\n",
       "      <th>reordered</th>\n",
       "      <th>_merge</th>\n",
       "      <th>product_name</th>\n",
       "      <th>aisle_id</th>\n",
       "      <th>department_id</th>\n",
       "      <th>prices</th>\n",
       "      <th>price_range_loc</th>\n",
       "      <th>busiest_day</th>\n",
       "      <th>busiest_days</th>\n",
       "      <th>busiest_period_of_day</th>\n",
       "      <th>max_order</th>\n",
       "      <th>loyalty_flag</th>\n",
       "      <th>avg_price</th>\n",
       "      <th>spender_flag</th>\n",
       "      <th>median_order_frequency</th>\n",
       "      <th>customer_behavior</th>\n",
       "      <th>first_name</th>\n",
       "      <th>last_name</th>\n",
       "      <th>gender</th>\n",
       "      <th>state</th>\n",
       "      <th>age</th>\n",
       "      <th>date_joined</th>\n",
       "      <th>number_of_dependants</th>\n",
       "      <th>marital_status</th>\n",
       "      <th>income</th>\n",
       "    </tr>\n",
       "  </thead>\n",
       "  <tbody>\n",
       "    <tr>\n",
       "      <th>7805</th>\n",
       "      <td>1435153</td>\n",
       "      <td>1519</td>\n",
       "      <td>26</td>\n",
       "      <td>2</td>\n",
       "      <td>11</td>\n",
       "      <td>6.0</td>\n",
       "      <td>21553</td>\n",
       "      <td>15</td>\n",
       "      <td>0</td>\n",
       "      <td>both</td>\n",
       "      <td>Lowfat 2% Milkfat Cottage Cheese</td>\n",
       "      <td>108</td>\n",
       "      <td>16</td>\n",
       "      <td>14900.0</td>\n",
       "      <td>High-range product</td>\n",
       "      <td>Regularly busy</td>\n",
       "      <td>Regularly busy</td>\n",
       "      <td>Most orders</td>\n",
       "      <td>47</td>\n",
       "      <td>Loyal customer</td>\n",
       "      <td>50.932895</td>\n",
       "      <td>High spender</td>\n",
       "      <td>6.0</td>\n",
       "      <td>Frequent customer</td>\n",
       "      <td>Craig</td>\n",
       "      <td>Clark</td>\n",
       "      <td>Male</td>\n",
       "      <td>Rhode Island</td>\n",
       "      <td>68</td>\n",
       "      <td>3/4/2020</td>\n",
       "      <td>0</td>\n",
       "      <td>divorced/widowed</td>\n",
       "      <td>177864</td>\n",
       "    </tr>\n",
       "    <tr>\n",
       "      <th>7806</th>\n",
       "      <td>1066435</td>\n",
       "      <td>1519</td>\n",
       "      <td>32</td>\n",
       "      <td>3</td>\n",
       "      <td>10</td>\n",
       "      <td>5.0</td>\n",
       "      <td>21553</td>\n",
       "      <td>28</td>\n",
       "      <td>1</td>\n",
       "      <td>both</td>\n",
       "      <td>Lowfat 2% Milkfat Cottage Cheese</td>\n",
       "      <td>108</td>\n",
       "      <td>16</td>\n",
       "      <td>14900.0</td>\n",
       "      <td>High-range product</td>\n",
       "      <td>Regularly busy</td>\n",
       "      <td>Slowest days</td>\n",
       "      <td>Most orders</td>\n",
       "      <td>47</td>\n",
       "      <td>Loyal customer</td>\n",
       "      <td>50.932895</td>\n",
       "      <td>High spender</td>\n",
       "      <td>6.0</td>\n",
       "      <td>Frequent customer</td>\n",
       "      <td>Craig</td>\n",
       "      <td>Clark</td>\n",
       "      <td>Male</td>\n",
       "      <td>Rhode Island</td>\n",
       "      <td>68</td>\n",
       "      <td>3/4/2020</td>\n",
       "      <td>0</td>\n",
       "      <td>divorced/widowed</td>\n",
       "      <td>177864</td>\n",
       "    </tr>\n",
       "    <tr>\n",
       "      <th>15143</th>\n",
       "      <td>1697208</td>\n",
       "      <td>2409</td>\n",
       "      <td>33</td>\n",
       "      <td>1</td>\n",
       "      <td>19</td>\n",
       "      <td>5.0</td>\n",
       "      <td>21553</td>\n",
       "      <td>1</td>\n",
       "      <td>0</td>\n",
       "      <td>both</td>\n",
       "      <td>Lowfat 2% Milkfat Cottage Cheese</td>\n",
       "      <td>108</td>\n",
       "      <td>16</td>\n",
       "      <td>14900.0</td>\n",
       "      <td>High-range product</td>\n",
       "      <td>Regularly busy</td>\n",
       "      <td>Busiest days</td>\n",
       "      <td>Average orders</td>\n",
       "      <td>48</td>\n",
       "      <td>Loyal customer</td>\n",
       "      <td>35.233761</td>\n",
       "      <td>High spender</td>\n",
       "      <td>5.0</td>\n",
       "      <td>Frequent customer</td>\n",
       "      <td>Nicole</td>\n",
       "      <td>Odonnell</td>\n",
       "      <td>Female</td>\n",
       "      <td>Hawaii</td>\n",
       "      <td>55</td>\n",
       "      <td>11/11/2018</td>\n",
       "      <td>2</td>\n",
       "      <td>married</td>\n",
       "      <td>230074</td>\n",
       "    </tr>\n",
       "    <tr>\n",
       "      <th>20264</th>\n",
       "      <td>965345</td>\n",
       "      <td>3531</td>\n",
       "      <td>27</td>\n",
       "      <td>2</td>\n",
       "      <td>19</td>\n",
       "      <td>8.0</td>\n",
       "      <td>33664</td>\n",
       "      <td>2</td>\n",
       "      <td>0</td>\n",
       "      <td>both</td>\n",
       "      <td>2 % Reduced Fat  Milk</td>\n",
       "      <td>84</td>\n",
       "      <td>16</td>\n",
       "      <td>99999.0</td>\n",
       "      <td>High-range product</td>\n",
       "      <td>Regularly busy</td>\n",
       "      <td>Regularly busy</td>\n",
       "      <td>Average orders</td>\n",
       "      <td>29</td>\n",
       "      <td>Regular customer</td>\n",
       "      <td>267.469870</td>\n",
       "      <td>High spender</td>\n",
       "      <td>8.0</td>\n",
       "      <td>Frequent customer</td>\n",
       "      <td>Alice</td>\n",
       "      <td>Compton</td>\n",
       "      <td>Female</td>\n",
       "      <td>Hawaii</td>\n",
       "      <td>80</td>\n",
       "      <td>10/6/2019</td>\n",
       "      <td>2</td>\n",
       "      <td>married</td>\n",
       "      <td>233776</td>\n",
       "    </tr>\n",
       "    <tr>\n",
       "      <th>20497</th>\n",
       "      <td>2943740</td>\n",
       "      <td>3793</td>\n",
       "      <td>1</td>\n",
       "      <td>2</td>\n",
       "      <td>9</td>\n",
       "      <td>0.0</td>\n",
       "      <td>21553</td>\n",
       "      <td>3</td>\n",
       "      <td>0</td>\n",
       "      <td>both</td>\n",
       "      <td>Lowfat 2% Milkfat Cottage Cheese</td>\n",
       "      <td>108</td>\n",
       "      <td>16</td>\n",
       "      <td>14900.0</td>\n",
       "      <td>High-range product</td>\n",
       "      <td>Regularly busy</td>\n",
       "      <td>Regularly busy</td>\n",
       "      <td>Most orders</td>\n",
       "      <td>18</td>\n",
       "      <td>Regular customer</td>\n",
       "      <td>71.191102</td>\n",
       "      <td>High spender</td>\n",
       "      <td>4.0</td>\n",
       "      <td>Frequent customer</td>\n",
       "      <td>Jerry</td>\n",
       "      <td>Allen</td>\n",
       "      <td>Male</td>\n",
       "      <td>Louisiana</td>\n",
       "      <td>59</td>\n",
       "      <td>8/23/2019</td>\n",
       "      <td>3</td>\n",
       "      <td>married</td>\n",
       "      <td>182933</td>\n",
       "    </tr>\n",
       "    <tr>\n",
       "      <th>...</th>\n",
       "      <td>...</td>\n",
       "      <td>...</td>\n",
       "      <td>...</td>\n",
       "      <td>...</td>\n",
       "      <td>...</td>\n",
       "      <td>...</td>\n",
       "      <td>...</td>\n",
       "      <td>...</td>\n",
       "      <td>...</td>\n",
       "      <td>...</td>\n",
       "      <td>...</td>\n",
       "      <td>...</td>\n",
       "      <td>...</td>\n",
       "      <td>...</td>\n",
       "      <td>...</td>\n",
       "      <td>...</td>\n",
       "      <td>...</td>\n",
       "      <td>...</td>\n",
       "      <td>...</td>\n",
       "      <td>...</td>\n",
       "      <td>...</td>\n",
       "      <td>...</td>\n",
       "      <td>...</td>\n",
       "      <td>...</td>\n",
       "      <td>...</td>\n",
       "      <td>...</td>\n",
       "      <td>...</td>\n",
       "      <td>...</td>\n",
       "      <td>...</td>\n",
       "      <td>...</td>\n",
       "      <td>...</td>\n",
       "      <td>...</td>\n",
       "      <td>...</td>\n",
       "    </tr>\n",
       "    <tr>\n",
       "      <th>32303799</th>\n",
       "      <td>3265389</td>\n",
       "      <td>51346</td>\n",
       "      <td>4</td>\n",
       "      <td>1</td>\n",
       "      <td>17</td>\n",
       "      <td>13.0</td>\n",
       "      <td>33664</td>\n",
       "      <td>2</td>\n",
       "      <td>1</td>\n",
       "      <td>both</td>\n",
       "      <td>2 % Reduced Fat  Milk</td>\n",
       "      <td>84</td>\n",
       "      <td>16</td>\n",
       "      <td>99999.0</td>\n",
       "      <td>High-range product</td>\n",
       "      <td>Regularly busy</td>\n",
       "      <td>Busiest days</td>\n",
       "      <td>Average orders</td>\n",
       "      <td>5</td>\n",
       "      <td>New customer</td>\n",
       "      <td>6390.138298</td>\n",
       "      <td>High spender</td>\n",
       "      <td>11.0</td>\n",
       "      <td>Regular customer</td>\n",
       "      <td>nan</td>\n",
       "      <td>Gould</td>\n",
       "      <td>Male</td>\n",
       "      <td>Rhode Island</td>\n",
       "      <td>58</td>\n",
       "      <td>1/25/2019</td>\n",
       "      <td>1</td>\n",
       "      <td>married</td>\n",
       "      <td>207497</td>\n",
       "    </tr>\n",
       "    <tr>\n",
       "      <th>32307882</th>\n",
       "      <td>1179092</td>\n",
       "      <td>131671</td>\n",
       "      <td>12</td>\n",
       "      <td>4</td>\n",
       "      <td>9</td>\n",
       "      <td>15.0</td>\n",
       "      <td>33664</td>\n",
       "      <td>1</td>\n",
       "      <td>0</td>\n",
       "      <td>both</td>\n",
       "      <td>2 % Reduced Fat  Milk</td>\n",
       "      <td>84</td>\n",
       "      <td>16</td>\n",
       "      <td>99999.0</td>\n",
       "      <td>High-range product</td>\n",
       "      <td>Least busy</td>\n",
       "      <td>Slowest days</td>\n",
       "      <td>Most orders</td>\n",
       "      <td>13</td>\n",
       "      <td>Regular customer</td>\n",
       "      <td>3453.431034</td>\n",
       "      <td>High spender</td>\n",
       "      <td>13.0</td>\n",
       "      <td>Regular customer</td>\n",
       "      <td>Diana</td>\n",
       "      <td>Hansen</td>\n",
       "      <td>Female</td>\n",
       "      <td>Rhode Island</td>\n",
       "      <td>35</td>\n",
       "      <td>8/4/2018</td>\n",
       "      <td>0</td>\n",
       "      <td>single</td>\n",
       "      <td>86490</td>\n",
       "    </tr>\n",
       "    <tr>\n",
       "      <th>32310810</th>\n",
       "      <td>1226705</td>\n",
       "      <td>39667</td>\n",
       "      <td>7</td>\n",
       "      <td>2</td>\n",
       "      <td>15</td>\n",
       "      <td>20.0</td>\n",
       "      <td>33664</td>\n",
       "      <td>14</td>\n",
       "      <td>0</td>\n",
       "      <td>both</td>\n",
       "      <td>2 % Reduced Fat  Milk</td>\n",
       "      <td>84</td>\n",
       "      <td>16</td>\n",
       "      <td>99999.0</td>\n",
       "      <td>High-range product</td>\n",
       "      <td>Regularly busy</td>\n",
       "      <td>Regularly busy</td>\n",
       "      <td>Most orders</td>\n",
       "      <td>7</td>\n",
       "      <td>New customer</td>\n",
       "      <td>1223.879268</td>\n",
       "      <td>High spender</td>\n",
       "      <td>23.0</td>\n",
       "      <td>Non-frequent customer</td>\n",
       "      <td>Johnny</td>\n",
       "      <td>Colon</td>\n",
       "      <td>Male</td>\n",
       "      <td>Rhode Island</td>\n",
       "      <td>78</td>\n",
       "      <td>5/8/2019</td>\n",
       "      <td>2</td>\n",
       "      <td>married</td>\n",
       "      <td>195077</td>\n",
       "    </tr>\n",
       "    <tr>\n",
       "      <th>32330048</th>\n",
       "      <td>3000037</td>\n",
       "      <td>95105</td>\n",
       "      <td>2</td>\n",
       "      <td>4</td>\n",
       "      <td>19</td>\n",
       "      <td>22.0</td>\n",
       "      <td>33664</td>\n",
       "      <td>4</td>\n",
       "      <td>0</td>\n",
       "      <td>both</td>\n",
       "      <td>2 % Reduced Fat  Milk</td>\n",
       "      <td>84</td>\n",
       "      <td>16</td>\n",
       "      <td>99999.0</td>\n",
       "      <td>High-range product</td>\n",
       "      <td>Least busy</td>\n",
       "      <td>Slowest days</td>\n",
       "      <td>Average orders</td>\n",
       "      <td>4</td>\n",
       "      <td>New customer</td>\n",
       "      <td>11772.100000</td>\n",
       "      <td>High spender</td>\n",
       "      <td>6.0</td>\n",
       "      <td>Frequent customer</td>\n",
       "      <td>Catherine</td>\n",
       "      <td>Browning</td>\n",
       "      <td>Female</td>\n",
       "      <td>South Carolina</td>\n",
       "      <td>48</td>\n",
       "      <td>1/18/2017</td>\n",
       "      <td>2</td>\n",
       "      <td>married</td>\n",
       "      <td>398880</td>\n",
       "    </tr>\n",
       "    <tr>\n",
       "      <th>32330049</th>\n",
       "      <td>2741225</td>\n",
       "      <td>95105</td>\n",
       "      <td>4</td>\n",
       "      <td>5</td>\n",
       "      <td>12</td>\n",
       "      <td>2.0</td>\n",
       "      <td>33664</td>\n",
       "      <td>3</td>\n",
       "      <td>1</td>\n",
       "      <td>both</td>\n",
       "      <td>2 % Reduced Fat  Milk</td>\n",
       "      <td>84</td>\n",
       "      <td>16</td>\n",
       "      <td>99999.0</td>\n",
       "      <td>High-range product</td>\n",
       "      <td>Regularly busy</td>\n",
       "      <td>Regularly busy</td>\n",
       "      <td>Most orders</td>\n",
       "      <td>4</td>\n",
       "      <td>New customer</td>\n",
       "      <td>11772.100000</td>\n",
       "      <td>High spender</td>\n",
       "      <td>6.0</td>\n",
       "      <td>Frequent customer</td>\n",
       "      <td>Catherine</td>\n",
       "      <td>Browning</td>\n",
       "      <td>Female</td>\n",
       "      <td>South Carolina</td>\n",
       "      <td>48</td>\n",
       "      <td>1/18/2017</td>\n",
       "      <td>2</td>\n",
       "      <td>married</td>\n",
       "      <td>398880</td>\n",
       "    </tr>\n",
       "  </tbody>\n",
       "</table>\n",
       "<p>5127 rows × 33 columns</p>\n",
       "</div>"
      ],
      "text/plain": [
       "          order_id  user_id  order_number  order_day_of_week  \\\n",
       "7805       1435153     1519            26                  2   \n",
       "7806       1066435     1519            32                  3   \n",
       "15143      1697208     2409            33                  1   \n",
       "20264       965345     3531            27                  2   \n",
       "20497      2943740     3793             1                  2   \n",
       "...            ...      ...           ...                ...   \n",
       "32303799   3265389    51346             4                  1   \n",
       "32307882   1179092   131671            12                  4   \n",
       "32310810   1226705    39667             7                  2   \n",
       "32330048   3000037    95105             2                  4   \n",
       "32330049   2741225    95105             4                  5   \n",
       "\n",
       "          order_hour_of_day  days_since_prior_order  product_id  \\\n",
       "7805                     11                     6.0       21553   \n",
       "7806                     10                     5.0       21553   \n",
       "15143                    19                     5.0       21553   \n",
       "20264                    19                     8.0       33664   \n",
       "20497                     9                     0.0       21553   \n",
       "...                     ...                     ...         ...   \n",
       "32303799                 17                    13.0       33664   \n",
       "32307882                  9                    15.0       33664   \n",
       "32310810                 15                    20.0       33664   \n",
       "32330048                 19                    22.0       33664   \n",
       "32330049                 12                     2.0       33664   \n",
       "\n",
       "          add_to_cart_order  reordered _merge  \\\n",
       "7805                     15          0   both   \n",
       "7806                     28          1   both   \n",
       "15143                     1          0   both   \n",
       "20264                     2          0   both   \n",
       "20497                     3          0   both   \n",
       "...                     ...        ...    ...   \n",
       "32303799                  2          1   both   \n",
       "32307882                  1          0   both   \n",
       "32310810                 14          0   both   \n",
       "32330048                  4          0   both   \n",
       "32330049                  3          1   both   \n",
       "\n",
       "                              product_name  aisle_id  department_id   prices  \\\n",
       "7805      Lowfat 2% Milkfat Cottage Cheese       108             16  14900.0   \n",
       "7806      Lowfat 2% Milkfat Cottage Cheese       108             16  14900.0   \n",
       "15143     Lowfat 2% Milkfat Cottage Cheese       108             16  14900.0   \n",
       "20264                2 % Reduced Fat  Milk        84             16  99999.0   \n",
       "20497     Lowfat 2% Milkfat Cottage Cheese       108             16  14900.0   \n",
       "...                                    ...       ...            ...      ...   \n",
       "32303799             2 % Reduced Fat  Milk        84             16  99999.0   \n",
       "32307882             2 % Reduced Fat  Milk        84             16  99999.0   \n",
       "32310810             2 % Reduced Fat  Milk        84             16  99999.0   \n",
       "32330048             2 % Reduced Fat  Milk        84             16  99999.0   \n",
       "32330049             2 % Reduced Fat  Milk        84             16  99999.0   \n",
       "\n",
       "             price_range_loc     busiest_day    busiest_days  \\\n",
       "7805      High-range product  Regularly busy  Regularly busy   \n",
       "7806      High-range product  Regularly busy    Slowest days   \n",
       "15143     High-range product  Regularly busy    Busiest days   \n",
       "20264     High-range product  Regularly busy  Regularly busy   \n",
       "20497     High-range product  Regularly busy  Regularly busy   \n",
       "...                      ...             ...             ...   \n",
       "32303799  High-range product  Regularly busy    Busiest days   \n",
       "32307882  High-range product      Least busy    Slowest days   \n",
       "32310810  High-range product  Regularly busy  Regularly busy   \n",
       "32330048  High-range product      Least busy    Slowest days   \n",
       "32330049  High-range product  Regularly busy  Regularly busy   \n",
       "\n",
       "         busiest_period_of_day  max_order      loyalty_flag     avg_price  \\\n",
       "7805               Most orders         47    Loyal customer     50.932895   \n",
       "7806               Most orders         47    Loyal customer     50.932895   \n",
       "15143           Average orders         48    Loyal customer     35.233761   \n",
       "20264           Average orders         29  Regular customer    267.469870   \n",
       "20497              Most orders         18  Regular customer     71.191102   \n",
       "...                        ...        ...               ...           ...   \n",
       "32303799        Average orders          5      New customer   6390.138298   \n",
       "32307882           Most orders         13  Regular customer   3453.431034   \n",
       "32310810           Most orders          7      New customer   1223.879268   \n",
       "32330048        Average orders          4      New customer  11772.100000   \n",
       "32330049           Most orders          4      New customer  11772.100000   \n",
       "\n",
       "          spender_flag  median_order_frequency      customer_behavior  \\\n",
       "7805      High spender                     6.0      Frequent customer   \n",
       "7806      High spender                     6.0      Frequent customer   \n",
       "15143     High spender                     5.0      Frequent customer   \n",
       "20264     High spender                     8.0      Frequent customer   \n",
       "20497     High spender                     4.0      Frequent customer   \n",
       "...                ...                     ...                    ...   \n",
       "32303799  High spender                    11.0       Regular customer   \n",
       "32307882  High spender                    13.0       Regular customer   \n",
       "32310810  High spender                    23.0  Non-frequent customer   \n",
       "32330048  High spender                     6.0      Frequent customer   \n",
       "32330049  High spender                     6.0      Frequent customer   \n",
       "\n",
       "         first_name last_name  gender           state  age date_joined  \\\n",
       "7805          Craig     Clark    Male    Rhode Island   68    3/4/2020   \n",
       "7806          Craig     Clark    Male    Rhode Island   68    3/4/2020   \n",
       "15143        Nicole  Odonnell  Female          Hawaii   55  11/11/2018   \n",
       "20264         Alice   Compton  Female          Hawaii   80   10/6/2019   \n",
       "20497         Jerry     Allen    Male       Louisiana   59   8/23/2019   \n",
       "...             ...       ...     ...             ...  ...         ...   \n",
       "32303799        nan     Gould    Male    Rhode Island   58   1/25/2019   \n",
       "32307882      Diana    Hansen  Female    Rhode Island   35    8/4/2018   \n",
       "32310810     Johnny     Colon    Male    Rhode Island   78    5/8/2019   \n",
       "32330048  Catherine  Browning  Female  South Carolina   48   1/18/2017   \n",
       "32330049  Catherine  Browning  Female  South Carolina   48   1/18/2017   \n",
       "\n",
       "          number_of_dependants    marital_status  income  \n",
       "7805                         0  divorced/widowed  177864  \n",
       "7806                         0  divorced/widowed  177864  \n",
       "15143                        2           married  230074  \n",
       "20264                        2           married  233776  \n",
       "20497                        3           married  182933  \n",
       "...                        ...               ...     ...  \n",
       "32303799                     1           married  207497  \n",
       "32307882                     0            single   86490  \n",
       "32310810                     2           married  195077  \n",
       "32330048                     2           married  398880  \n",
       "32330049                     2           married  398880  \n",
       "\n",
       "[5127 rows x 33 columns]"
      ]
     },
     "execution_count": 27,
     "metadata": {},
     "output_type": "execute_result"
    }
   ],
   "source": [
    "# finding prices more than 100\n",
    "ords_prods_merge.loc[ords_prods_merge['prices'] > 100]"
   ]
  },
  {
   "cell_type": "code",
   "execution_count": 25,
   "id": "9453fc6f",
   "metadata": {},
   "outputs": [],
   "source": [
    "# display all the columns\n",
    "pd.set_option(\"display.max_columns\", None)"
   ]
  },
  {
   "cell_type": "code",
   "execution_count": 48,
   "id": "a03d9ef1",
   "metadata": {},
   "outputs": [],
   "source": [
    "# $14,900.00 and $99,999.00 values that are skewing your charts. For now, let’s mark them as missing since they don’t make sense in terms of the other values in the column. To turn them into NaNs.\n",
    "ords_prods_merge.loc[ords_prods_merge['prices']>100, 'prices'] = np.nan"
   ]
  },
  {
   "cell_type": "code",
   "execution_count": 49,
   "id": "c00fc782",
   "metadata": {},
   "outputs": [
    {
     "data": {
      "text/plain": [
       "25.0"
      ]
     },
     "execution_count": 49,
     "metadata": {},
     "output_type": "execute_result"
    }
   ],
   "source": [
    "ords_prods_merge['prices'].max()"
   ]
  },
  {
   "cell_type": "code",
   "execution_count": 50,
   "id": "54a1947a",
   "metadata": {},
   "outputs": [
    {
     "data": {
      "image/png": "[encoded data removed]",
      "text/plain": [
       "<Figure size 432x288 with 1 Axes>"
      ]
     },
     "metadata": {
      "needs_background": "light"
     },
     "output_type": "display_data"
    }
   ],
   "source": [
    "hist = ords_prods_merge['prices'].plot.hist(bins = 25)"
   ]
  },
  {
   "cell_type": "code",
   "execution_count": 51,
   "id": "58ab06e0",
   "metadata": {},
   "outputs": [
    {
     "data": {
      "image/png": "[encoded data removed]",
      "text/plain": [
       "<Figure size 432x288 with 1 Axes>"
      ]
     },
     "metadata": {
      "needs_background": "light"
     },
     "output_type": "display_data"
    }
   ],
   "source": [
    "hist_2 = ords_prods_merge['prices'].plot.hist(bins = 70)"
   ]
  },
  {
   "cell_type": "markdown",
   "id": "0747ec65",
   "metadata": {},
   "source": [
    "# Export histograms"
   ]
  },
  {
   "cell_type": "code",
   "execution_count": 33,
   "id": "6a49f9cb",
   "metadata": {},
   "outputs": [],
   "source": [
    "hist.figure.savefig(os.path.join(path, '04 Analysis', 'Visualizations', 'hist_price.png'))"
   ]
  },
  {
   "cell_type": "markdown",
   "id": "80b6399f",
   "metadata": {},
   "source": [
    "# 2. Before creating a line chart, we have to sample the data due to its size."
   ]
  },
  {
   "cell_type": "markdown",
   "id": "17ba6401",
   "metadata": {},
   "source": [
    "# Sampling data"
   ]
  },
  {
   "cell_type": "code",
   "execution_count": 3,
   "id": "3e3e15ae",
   "metadata": {},
   "outputs": [],
   "source": [
    "np.random.seed(4)"
   ]
  },
  {
   "cell_type": "code",
   "execution_count": 7,
   "id": "0179d774",
   "metadata": {},
   "outputs": [],
   "source": [
    "# Create a list holding True/False values to the test np.random.rant()<= 0.7\n",
    "dev = np.random.rand(len(ords_prods_merge)) <= 0.7"
   ]
  },
  {
   "cell_type": "code",
   "execution_count": 8,
   "id": "615cf9ac",
   "metadata": {},
   "outputs": [],
   "source": [
    "# Store 70% of the sample in the dataframe big\n",
    "big = ords_prods_merge[dev]"
   ]
  },
  {
   "cell_type": "code",
   "execution_count": 9,
   "id": "3e085180",
   "metadata": {},
   "outputs": [],
   "source": [
    "# Store 30% of the sample in the dataframe small\n",
    "small = ords_prods_merge[~dev]"
   ]
  },
  {
   "cell_type": "code",
   "execution_count": 10,
   "id": "f96e1895",
   "metadata": {},
   "outputs": [
    {
     "data": {
      "text/plain": [
       "32404859"
      ]
     },
     "execution_count": 10,
     "metadata": {},
     "output_type": "execute_result"
    }
   ],
   "source": [
    "# Check the results\n",
    "len(ords_prods_merge)"
   ]
  },
  {
   "cell_type": "code",
   "execution_count": 11,
   "id": "5c9d7bd0",
   "metadata": {},
   "outputs": [
    {
     "data": {
      "text/plain": [
       "32404859"
      ]
     },
     "execution_count": 11,
     "metadata": {},
     "output_type": "execute_result"
    }
   ],
   "source": [
    "len(big) + len(small)"
   ]
  },
  {
   "cell_type": "markdown",
   "id": "8f4526fd",
   "metadata": {},
   "source": [
    "# Creating a line chart from \"order_day_of_week\"and \"prices\" columns"
   ]
  },
  {
   "cell_type": "code",
   "execution_count": 12,
   "id": "d557950f",
   "metadata": {},
   "outputs": [],
   "source": [
    "df_2 = small[['order_day_of_week', 'prices']]"
   ]
  },
  {
   "cell_type": "code",
   "execution_count": 13,
   "id": "c4f34afa",
   "metadata": {},
   "outputs": [
    {
     "data": {
      "image/png": "[encoded data removed]",
      "text/plain": [
       "<Figure size 432x288 with 1 Axes>"
      ]
     },
     "metadata": {
      "needs_background": "light"
     },
     "output_type": "display_data"
    }
   ],
   "source": [
    "line = sns.lineplot(data = df_2, x = 'order_day_of_week', y = 'prices')"
   ]
  },
  {
   "cell_type": "markdown",
   "id": "84557e8a",
   "metadata": {},
   "source": [
    "# 3. Create a histogram of the \"order_hour_of_day\" column."
   ]
  },
  {
   "cell_type": "code",
   "execution_count": 24,
   "id": "8702ad6f",
   "metadata": {},
   "outputs": [
    {
     "data": {
      "image/png": "[encoded data removed]",
      "text/plain": [
       "<Figure size 432x288 with 1 Axes>"
      ]
     },
     "metadata": {
      "needs_background": "light"
     },
     "output_type": "display_data"
    }
   ],
   "source": [
    "hist_ords_hour = ords_prods_merge['order_hour_of_day'].plot.hist(bins = 24)"
   ]
  },
  {
   "cell_type": "markdown",
   "id": "306895c4",
   "metadata": {},
   "source": [
    "The histogram shows the frequency of the order for each hour of the day among the entire dataframe. It looks like between 10th and 15th hours order numbers reach the maximum point."
   ]
  },
  {
   "cell_type": "markdown",
   "id": "5c98d70b",
   "metadata": {},
   "source": [
    "# 4. Create a bar chart from \"loyalty_flag\" column."
   ]
  },
  {
   "cell_type": "code",
   "execution_count": 23,
   "id": "ea5ffd5d",
   "metadata": {},
   "outputs": [
    {
     "data": {
      "text/html": [
       "<div>\n",
       "<style scoped>\n",
       "    .dataframe tbody tr th:only-of-type {\n",
       "        vertical-align: middle;\n",
       "    }\n",
       "\n",
       "    .dataframe tbody tr th {\n",
       "        vertical-align: top;\n",
       "    }\n",
       "\n",
       "    .dataframe thead th {\n",
       "        text-align: right;\n",
       "    }\n",
       "</style>\n",
       "<table border=\"1\" class=\"dataframe\">\n",
       "  <thead>\n",
       "    <tr style=\"text-align: right;\">\n",
       "      <th></th>\n",
       "      <th>order_id</th>\n",
       "      <th>user_id</th>\n",
       "      <th>order_number</th>\n",
       "      <th>order_day_of_week</th>\n",
       "      <th>order_hour_of_day</th>\n",
       "      <th>days_since_prior_order</th>\n",
       "      <th>product_id</th>\n",
       "      <th>add_to_cart_order</th>\n",
       "      <th>reordered</th>\n",
       "      <th>_merge</th>\n",
       "      <th>product_name</th>\n",
       "      <th>aisle_id</th>\n",
       "      <th>department_id</th>\n",
       "      <th>prices</th>\n",
       "      <th>price_range_loc</th>\n",
       "      <th>busiest_day</th>\n",
       "      <th>busiest_days</th>\n",
       "      <th>busiest_period_of_day</th>\n",
       "      <th>max_order</th>\n",
       "      <th>loyalty_flag</th>\n",
       "      <th>avg_price</th>\n",
       "      <th>spender_flag</th>\n",
       "      <th>median_order_frequency</th>\n",
       "      <th>customer_behavior</th>\n",
       "      <th>first_name</th>\n",
       "      <th>last_name</th>\n",
       "      <th>gender</th>\n",
       "      <th>state</th>\n",
       "      <th>age</th>\n",
       "      <th>date_joined</th>\n",
       "      <th>number_of_dependants</th>\n",
       "      <th>marital_status</th>\n",
       "      <th>income</th>\n",
       "    </tr>\n",
       "  </thead>\n",
       "  <tbody>\n",
       "    <tr>\n",
       "      <th>0</th>\n",
       "      <td>2539329</td>\n",
       "      <td>1</td>\n",
       "      <td>1</td>\n",
       "      <td>2</td>\n",
       "      <td>8</td>\n",
       "      <td>0.0</td>\n",
       "      <td>196</td>\n",
       "      <td>1</td>\n",
       "      <td>0</td>\n",
       "      <td>both</td>\n",
       "      <td>Soda</td>\n",
       "      <td>77</td>\n",
       "      <td>7</td>\n",
       "      <td>9.0</td>\n",
       "      <td>Mid-range product</td>\n",
       "      <td>Regularly busy</td>\n",
       "      <td>Regularly busy</td>\n",
       "      <td>Average orders</td>\n",
       "      <td>10</td>\n",
       "      <td>New customer</td>\n",
       "      <td>6.367797</td>\n",
       "      <td>Low spender</td>\n",
       "      <td>20.0</td>\n",
       "      <td>Regular customer</td>\n",
       "      <td>Linda</td>\n",
       "      <td>Nguyen</td>\n",
       "      <td>Female</td>\n",
       "      <td>Alabama</td>\n",
       "      <td>31</td>\n",
       "      <td>2/17/2019</td>\n",
       "      <td>3</td>\n",
       "      <td>married</td>\n",
       "      <td>40423</td>\n",
       "    </tr>\n",
       "    <tr>\n",
       "      <th>1</th>\n",
       "      <td>2398795</td>\n",
       "      <td>1</td>\n",
       "      <td>2</td>\n",
       "      <td>3</td>\n",
       "      <td>7</td>\n",
       "      <td>15.0</td>\n",
       "      <td>196</td>\n",
       "      <td>1</td>\n",
       "      <td>1</td>\n",
       "      <td>both</td>\n",
       "      <td>Soda</td>\n",
       "      <td>77</td>\n",
       "      <td>7</td>\n",
       "      <td>9.0</td>\n",
       "      <td>Mid-range product</td>\n",
       "      <td>Regularly busy</td>\n",
       "      <td>Slowest days</td>\n",
       "      <td>Average orders</td>\n",
       "      <td>10</td>\n",
       "      <td>New customer</td>\n",
       "      <td>6.367797</td>\n",
       "      <td>Low spender</td>\n",
       "      <td>20.0</td>\n",
       "      <td>Regular customer</td>\n",
       "      <td>Linda</td>\n",
       "      <td>Nguyen</td>\n",
       "      <td>Female</td>\n",
       "      <td>Alabama</td>\n",
       "      <td>31</td>\n",
       "      <td>2/17/2019</td>\n",
       "      <td>3</td>\n",
       "      <td>married</td>\n",
       "      <td>40423</td>\n",
       "    </tr>\n",
       "    <tr>\n",
       "      <th>2</th>\n",
       "      <td>473747</td>\n",
       "      <td>1</td>\n",
       "      <td>3</td>\n",
       "      <td>3</td>\n",
       "      <td>12</td>\n",
       "      <td>21.0</td>\n",
       "      <td>196</td>\n",
       "      <td>1</td>\n",
       "      <td>1</td>\n",
       "      <td>both</td>\n",
       "      <td>Soda</td>\n",
       "      <td>77</td>\n",
       "      <td>7</td>\n",
       "      <td>9.0</td>\n",
       "      <td>Mid-range product</td>\n",
       "      <td>Regularly busy</td>\n",
       "      <td>Slowest days</td>\n",
       "      <td>Most orders</td>\n",
       "      <td>10</td>\n",
       "      <td>New customer</td>\n",
       "      <td>6.367797</td>\n",
       "      <td>Low spender</td>\n",
       "      <td>20.0</td>\n",
       "      <td>Regular customer</td>\n",
       "      <td>Linda</td>\n",
       "      <td>Nguyen</td>\n",
       "      <td>Female</td>\n",
       "      <td>Alabama</td>\n",
       "      <td>31</td>\n",
       "      <td>2/17/2019</td>\n",
       "      <td>3</td>\n",
       "      <td>married</td>\n",
       "      <td>40423</td>\n",
       "    </tr>\n",
       "    <tr>\n",
       "      <th>3</th>\n",
       "      <td>2254736</td>\n",
       "      <td>1</td>\n",
       "      <td>4</td>\n",
       "      <td>4</td>\n",
       "      <td>7</td>\n",
       "      <td>29.0</td>\n",
       "      <td>196</td>\n",
       "      <td>1</td>\n",
       "      <td>1</td>\n",
       "      <td>both</td>\n",
       "      <td>Soda</td>\n",
       "      <td>77</td>\n",
       "      <td>7</td>\n",
       "      <td>9.0</td>\n",
       "      <td>Mid-range product</td>\n",
       "      <td>Least busy</td>\n",
       "      <td>Slowest days</td>\n",
       "      <td>Average orders</td>\n",
       "      <td>10</td>\n",
       "      <td>New customer</td>\n",
       "      <td>6.367797</td>\n",
       "      <td>Low spender</td>\n",
       "      <td>20.0</td>\n",
       "      <td>Regular customer</td>\n",
       "      <td>Linda</td>\n",
       "      <td>Nguyen</td>\n",
       "      <td>Female</td>\n",
       "      <td>Alabama</td>\n",
       "      <td>31</td>\n",
       "      <td>2/17/2019</td>\n",
       "      <td>3</td>\n",
       "      <td>married</td>\n",
       "      <td>40423</td>\n",
       "    </tr>\n",
       "    <tr>\n",
       "      <th>4</th>\n",
       "      <td>431534</td>\n",
       "      <td>1</td>\n",
       "      <td>5</td>\n",
       "      <td>4</td>\n",
       "      <td>15</td>\n",
       "      <td>28.0</td>\n",
       "      <td>196</td>\n",
       "      <td>1</td>\n",
       "      <td>1</td>\n",
       "      <td>both</td>\n",
       "      <td>Soda</td>\n",
       "      <td>77</td>\n",
       "      <td>7</td>\n",
       "      <td>9.0</td>\n",
       "      <td>Mid-range product</td>\n",
       "      <td>Least busy</td>\n",
       "      <td>Slowest days</td>\n",
       "      <td>Most orders</td>\n",
       "      <td>10</td>\n",
       "      <td>New customer</td>\n",
       "      <td>6.367797</td>\n",
       "      <td>Low spender</td>\n",
       "      <td>20.0</td>\n",
       "      <td>Regular customer</td>\n",
       "      <td>Linda</td>\n",
       "      <td>Nguyen</td>\n",
       "      <td>Female</td>\n",
       "      <td>Alabama</td>\n",
       "      <td>31</td>\n",
       "      <td>2/17/2019</td>\n",
       "      <td>3</td>\n",
       "      <td>married</td>\n",
       "      <td>40423</td>\n",
       "    </tr>\n",
       "  </tbody>\n",
       "</table>\n",
       "</div>"
      ],
      "text/plain": [
       "   order_id  user_id  order_number  order_day_of_week  order_hour_of_day  \\\n",
       "0   2539329        1             1                  2                  8   \n",
       "1   2398795        1             2                  3                  7   \n",
       "2    473747        1             3                  3                 12   \n",
       "3   2254736        1             4                  4                  7   \n",
       "4    431534        1             5                  4                 15   \n",
       "\n",
       "   days_since_prior_order  product_id  add_to_cart_order  reordered _merge  \\\n",
       "0                     0.0         196                  1          0   both   \n",
       "1                    15.0         196                  1          1   both   \n",
       "2                    21.0         196                  1          1   both   \n",
       "3                    29.0         196                  1          1   both   \n",
       "4                    28.0         196                  1          1   both   \n",
       "\n",
       "  product_name  aisle_id  department_id  prices    price_range_loc  \\\n",
       "0         Soda        77              7     9.0  Mid-range product   \n",
       "1         Soda        77              7     9.0  Mid-range product   \n",
       "2         Soda        77              7     9.0  Mid-range product   \n",
       "3         Soda        77              7     9.0  Mid-range product   \n",
       "4         Soda        77              7     9.0  Mid-range product   \n",
       "\n",
       "      busiest_day    busiest_days busiest_period_of_day  max_order  \\\n",
       "0  Regularly busy  Regularly busy        Average orders         10   \n",
       "1  Regularly busy    Slowest days        Average orders         10   \n",
       "2  Regularly busy    Slowest days           Most orders         10   \n",
       "3      Least busy    Slowest days        Average orders         10   \n",
       "4      Least busy    Slowest days           Most orders         10   \n",
       "\n",
       "   loyalty_flag  avg_price spender_flag  median_order_frequency  \\\n",
       "0  New customer   6.367797  Low spender                    20.0   \n",
       "1  New customer   6.367797  Low spender                    20.0   \n",
       "2  New customer   6.367797  Low spender                    20.0   \n",
       "3  New customer   6.367797  Low spender                    20.0   \n",
       "4  New customer   6.367797  Low spender                    20.0   \n",
       "\n",
       "  customer_behavior first_name last_name  gender    state  age date_joined  \\\n",
       "0  Regular customer      Linda    Nguyen  Female  Alabama   31   2/17/2019   \n",
       "1  Regular customer      Linda    Nguyen  Female  Alabama   31   2/17/2019   \n",
       "2  Regular customer      Linda    Nguyen  Female  Alabama   31   2/17/2019   \n",
       "3  Regular customer      Linda    Nguyen  Female  Alabama   31   2/17/2019   \n",
       "4  Regular customer      Linda    Nguyen  Female  Alabama   31   2/17/2019   \n",
       "\n",
       "   number_of_dependants marital_status  income  \n",
       "0                     3        married   40423  \n",
       "1                     3        married   40423  \n",
       "2                     3        married   40423  \n",
       "3                     3        married   40423  \n",
       "4                     3        married   40423  "
      ]
     },
     "execution_count": 23,
     "metadata": {},
     "output_type": "execute_result"
    }
   ],
   "source": [
    "ords_prods_merge.head()"
   ]
  },
  {
   "cell_type": "code",
   "execution_count": 22,
   "id": "f7427042",
   "metadata": {},
   "outputs": [],
   "source": [
    "pd.set_option('display.max_columns', None)"
   ]
  },
  {
   "cell_type": "code",
   "execution_count": 27,
   "id": "7359142f",
   "metadata": {},
   "outputs": [
    {
     "data": {
      "image/png": "[encoded data removed]",
      "text/plain": [
       "<Figure size 432x288 with 1 Axes>"
      ]
     },
     "metadata": {
      "needs_background": "light"
     },
     "output_type": "display_data"
    }
   ],
   "source": [
    "bar_loyalty_flag = ords_prods_merge['loyalty_flag'].value_counts().sort_index().plot.bar(color = ['green', 'blue','red'])"
   ]
  },
  {
   "cell_type": "markdown",
   "id": "00efc08c",
   "metadata": {},
   "source": [
    "# 5. Check whether there’s a difference in expenditure (the “prices” column) depending on the hour of the day."
   ]
  },
  {
   "cell_type": "code",
   "execution_count": 28,
   "id": "abe84586",
   "metadata": {},
   "outputs": [],
   "source": [
    "# Sampling the data\n",
    "np.random.seed(4)"
   ]
  },
  {
   "cell_type": "code",
   "execution_count": 29,
   "id": "bafbdedc",
   "metadata": {},
   "outputs": [],
   "source": [
    "dev_2 = np.random.rand (len(ords_prods_merge)) <= 0.8"
   ]
  },
  {
   "cell_type": "code",
   "execution_count": 32,
   "id": "0debfaa4",
   "metadata": {},
   "outputs": [],
   "source": [
    "big_2 = ords_prods_merge[dev_2]"
   ]
  },
  {
   "cell_type": "code",
   "execution_count": 33,
   "id": "4b68ac9f",
   "metadata": {},
   "outputs": [],
   "source": [
    "small_2 = ords_prods_merge[~dev_2]"
   ]
  },
  {
   "cell_type": "code",
   "execution_count": 34,
   "id": "ba755e08",
   "metadata": {},
   "outputs": [],
   "source": [
    "# Creating a line chart from the small sample\n",
    "df_3 = small_2[['order_hour_of_day', 'prices']]"
   ]
  },
  {
   "cell_type": "code",
   "execution_count": 35,
   "id": "c2f8dd29",
   "metadata": {},
   "outputs": [
    {
     "data": {
      "image/png": "[encoded data removed]",
      "text/plain": [
       "<Figure size 432x288 with 1 Axes>"
      ]
     },
     "metadata": {
      "needs_background": "light"
     },
     "output_type": "display_data"
    }
   ],
   "source": [
    "line_price_hour = sns.lineplot(data = df_3, x = 'order_hour_of_day', y = 'prices')"
   ]
  },
  {
   "cell_type": "markdown",
   "id": "e2d6a7eb",
   "metadata": {},
   "source": [
    "There isn't huge price diffrence between 5th and 20th hours. However the fluctuation is seen between 1st and 5th hours."
   ]
  },
  {
   "cell_type": "markdown",
   "id": "4c59221a",
   "metadata": {},
   "source": [
    "# 6. Determine whether there’s a connection between age and family situation by creating a line chart."
   ]
  },
  {
   "cell_type": "code",
   "execution_count": 39,
   "id": "405a00d5",
   "metadata": {},
   "outputs": [],
   "source": [
    "# I am going the use the sample data from step 5.\n",
    "df_4 = small_2[['age', 'number_of_dependants']]"
   ]
  },
  {
   "cell_type": "code",
   "execution_count": 40,
   "id": "f08e6f7b",
   "metadata": {},
   "outputs": [
    {
     "data": {
      "image/png": "[encoded data removed]",
      "text/plain": [
       "<Figure size 432x288 with 1 Axes>"
      ]
     },
     "metadata": {
      "needs_background": "light"
     },
     "output_type": "display_data"
    }
   ],
   "source": [
    "line_age_dependants = sns.lineplot(data = df_4, x = 'age', y = 'number_of_dependants')"
   ]
  },
  {
   "cell_type": "markdown",
   "id": "25f84cb3",
   "metadata": {},
   "source": [
    "The line chart above shows the relationship between the age of instacart customers and number of dependants for each customers. The number of dependant stays in the same range even the age of customers gets higher."
   ]
  },
  {
   "cell_type": "markdown",
   "id": "68bf6854",
   "metadata": {},
   "source": [
    "# 7. Explore whether there's a connection between age and spending power(income)."
   ]
  },
  {
   "cell_type": "code",
   "execution_count": 41,
   "id": "108720f0",
   "metadata": {},
   "outputs": [],
   "source": [
    "# using the small data\n",
    "df_5 = small_2[['income','age']]"
   ]
  },
  {
   "cell_type": "code",
   "execution_count": 43,
   "id": "d7752d02",
   "metadata": {},
   "outputs": [
    {
     "data": {
      "image/png": "[encoded data removed]",
      "text/plain": [
       "<Figure size 432x288 with 1 Axes>"
      ]
     },
     "metadata": {
      "needs_background": "light"
     },
     "output_type": "display_data"
    }
   ],
   "source": [
    "# create scatter plot\n",
    "scatterplot_spending = sns.scatterplot(x = 'age', y = 'income', data = df_5)"
   ]
  },
  {
   "cell_type": "markdown",
   "id": "fdefbcf5",
   "metadata": {},
   "source": [
    "The chart shows the relationship between age and income of instacart customers. \n",
    "- There is an income density up to 200,000 among the all ages.\n",
    "- After age of 40, the income density increases up to 300,000.\n",
    "- After age of 40, people has more income. "
   ]
  },
  {
   "cell_type": "markdown",
   "id": "ff9f5987",
   "metadata": {},
   "source": [
    "# 8. Export the visualizations as \".png\" files."
   ]
  },
  {
   "cell_type": "code",
   "execution_count": 46,
   "id": "1588bf09",
   "metadata": {},
   "outputs": [],
   "source": [
    "bar.figure.savefig(os.path.join(path, '04 Analysis','Visualizations', 'bar_orders_dow.png'))"
   ]
  },
  {
   "cell_type": "code",
   "execution_count": 52,
   "id": "b3ea712c",
   "metadata": {},
   "outputs": [],
   "source": [
    "hist_2.figure.savefig(os.path.join(path, '04 Analysis', 'Visualizations', 'hist_2_price.png'))"
   ]
  },
  {
   "cell_type": "code",
   "execution_count": 53,
   "id": "d13a3b0c",
   "metadata": {},
   "outputs": [],
   "source": [
    "line.figure.savefig(os.path.join(path, '04 Analysis', 'Visualizations', 'line_day_price.png'))"
   ]
  },
  {
   "cell_type": "code",
   "execution_count": 54,
   "id": "faa97870",
   "metadata": {},
   "outputs": [],
   "source": [
    "hist_ords_hour.figure.savefig(os.path.join(path, '04 Analysis', 'Visualizations', 'hist_ords_hour.png'))"
   ]
  },
  {
   "cell_type": "code",
   "execution_count": 55,
   "id": "a19f574d",
   "metadata": {},
   "outputs": [],
   "source": [
    "bar_loyalty_flag.figure.savefig(os.path.join(path, '04 Analysis', 'Visualizations', 'bar_loyalty.png'))"
   ]
  },
  {
   "cell_type": "code",
   "execution_count": 57,
   "id": "eb7a9681",
   "metadata": {},
   "outputs": [],
   "source": [
    "line_price_hour.figure.savefig(os.path.join(path, '04 Analysis', 'Visualizations', 'line_price_hour.png'))"
   ]
  },
  {
   "cell_type": "code",
   "execution_count": 60,
   "id": "db88d310",
   "metadata": {},
   "outputs": [],
   "source": [
    "line_age_dependants.figure.savefig(os.path.join(path,'04 Analysis', 'Visualizations', 'line_age_dependants.png'))"
   ]
  },
  {
   "cell_type": "code",
   "execution_count": 61,
   "id": "d8c07174",
   "metadata": {},
   "outputs": [],
   "source": [
    "scatterplot_spending.figure.savefig(os.path.join(path, '04 Analysis', 'Visualizations', 'scatterplot_spending.png'))"
   ]
  }
 ],
 "metadata": {
  "kernelspec": {
   "display_name": "Python 3 (ipykernel)",
   "language": "python",
   "name": "python3"
  },
  "language_info": {
   "codemirror_mode": {
    "name": "ipython",
    "version": 3
   },
   "file_extension": ".py",
   "mimetype": "text/x-python",
   "name": "python",
   "nbconvert_exporter": "python",
   "pygments_lexer": "ipython3",
   "version": "3.9.12"
  }
 },
 "nbformat": 4,
 "nbformat_minor": 5
}
