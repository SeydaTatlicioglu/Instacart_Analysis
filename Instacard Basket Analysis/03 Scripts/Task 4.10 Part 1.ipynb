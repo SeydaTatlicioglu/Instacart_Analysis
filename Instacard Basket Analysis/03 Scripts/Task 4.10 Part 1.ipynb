{
 "cells": [
  {
   "cell_type": "markdown",
   "id": "bc425c64",
   "metadata": {},
   "source": [
    "# Task 4.10 \n",
    "# Table of contents"
   ]
  },
  {
   "cell_type": "markdown",
   "id": "8ac7738b",
   "metadata": {},
   "source": [
    "## 1- Importin libraries and data \n",
    "## 2- Checking data privacy\n",
    "## 3- Splitting states and creating a 'region' column \n",
    "## 4- Determining spending habits\n",
    "## 5- Determining and axcluding low-activity customers\n",
    "## 6- Creating customer profile- age group flag, income flag, marital status, dependant flag\n",
    "## 7- Creating a visualization to show the distribution of profiles\n",
    "## 8- Aggregating the max, mean, and min on a customer-profile level for usega frequency\n",
    "## 9- Exporting visualizations and final dataset"
   ]
  },
  {
   "cell_type": "markdown",
   "id": "0f3bee42",
   "metadata": {},
   "source": [
    "# 1- Importing libraries and data"
   ]
  },
  {
   "cell_type": "code",
   "execution_count": 1,
   "id": "916887bf",
   "metadata": {},
   "outputs": [],
   "source": [
    "# import libraries\n",
    "import pandas as pd\n",
    "import numpy as np\n",
    "import os\n",
    "import matplotlib.pyplot as plt\n",
    "import seaborn as sns\n",
    "import scipy"
   ]
  },
  {
   "cell_type": "code",
   "execution_count": 2,
   "id": "a1f3cec1",
   "metadata": {},
   "outputs": [],
   "source": [
    "# import dataframe\n",
    "path = r'/Users/seyda/Documents/Instacard Basket Analysis'"
   ]
  },
  {
   "cell_type": "code",
   "execution_count": 3,
   "id": "08e2cf81",
   "metadata": {},
   "outputs": [],
   "source": [
    "df = pd.read_pickle(os.path.join(path, '02 Data', 'Prepared Data', 'customer_orders_products_merged.pkl'))"
   ]
  },
  {
   "cell_type": "markdown",
   "id": "ba9e9faa",
   "metadata": {},
   "source": [
    "# 2- Data Privacy"
   ]
  },
  {
   "cell_type": "code",
   "execution_count": 4,
   "id": "d0598310",
   "metadata": {},
   "outputs": [
    {
     "data": {
      "text/plain": [
       "Index(['order_id', 'user_id', 'order_number', 'order_day_of_week',\n",
       "       'order_hour_of_day', 'days_since_prior_order', 'product_id',\n",
       "       'add_to_cart_order', 'reordered', '_merge', 'product_name', 'aisle_id',\n",
       "       'department_id', 'prices', 'price_range_loc', 'busiest_day',\n",
       "       'busiest_days', 'busiest_period_of_day', 'max_order', 'loyalty_flag',\n",
       "       'avg_price', 'spender_flag', 'median_order_frequency',\n",
       "       'customer_behavior', 'first_name', 'last_name', 'gender', 'state',\n",
       "       'age', 'date_joined', 'number_of_dependants', 'marital_status',\n",
       "       'income'],\n",
       "      dtype='object')"
      ]
     },
     "execution_count": 4,
     "metadata": {},
     "output_type": "execute_result"
    }
   ],
   "source": [
    "# checking columns for PII\n",
    "df.columns"
   ]
  },
  {
   "cell_type": "code",
   "execution_count": 5,
   "id": "6a40bc46",
   "metadata": {},
   "outputs": [],
   "source": [
    "# excluding 'first_name' and 'last_name' columns due to privacy\n",
    "df.drop(['first_name', 'last_name'], inplace = True, axis = 1)"
   ]
  },
  {
   "cell_type": "markdown",
   "id": "204d2865",
   "metadata": {},
   "source": [
    "# 3- Splitting states and creating a 'region' column"
   ]
  },
  {
   "cell_type": "code",
   "execution_count": 6,
   "id": "69cc5f4b",
   "metadata": {},
   "outputs": [],
   "source": [
    "# States in 'Northeast' region\n",
    "Northeast = ['Maine', 'New Hampshire', 'Vermont', 'Massachusetts', 'Rhode Island', 'Connecticut', 'New York', 'Pennsylvania', 'New Jersey']"
   ]
  },
  {
   "cell_type": "code",
   "execution_count": 7,
   "id": "623ec254",
   "metadata": {},
   "outputs": [],
   "source": [
    "# States in 'Midwest' region\n",
    "Midwest = ['Wisconsin','Michigan','Illinois','Indiana','Ohio','North Dakota','South Dakota','Nebraska','Kansas'\n",
    "         ,'Minnesota','Iowa','Missouri']"
   ]
  },
  {
   "cell_type": "code",
   "execution_count": 8,
   "id": "9919bab1",
   "metadata": {},
   "outputs": [],
   "source": [
    "# States in 'South' region\n",
    "South=['Delaware','Maryland','District of Columbia','Virginia','West Virginia','North Carolina','South Carolina'\n",
    "       ,'Georgia','Florida','Kentucky','Tennessee','Mississippi','Alabama','Oklahoma','Texas','Arkansas','Louisiana']"
   ]
  },
  {
   "cell_type": "code",
   "execution_count": 9,
   "id": "34897add",
   "metadata": {},
   "outputs": [],
   "source": [
    "# States in 'West' region\n",
    "West=['Idaho','Montana','Wyoming','Nevada','Utah','Colorado','Arizona','New Mexico','Alaska','Washington','Oregon',\n",
    "      'California','Hawaii']"
   ]
  },
  {
   "cell_type": "code",
   "execution_count": 10,
   "id": "b45e3a18",
   "metadata": {},
   "outputs": [],
   "source": [
    "# Creating a 'region' column\n",
    "result=[]\n",
    "for state in df['state']:\n",
    "    if state in Northeast:\n",
    "        result.append('Northeast')\n",
    "    elif state in Midwest:\n",
    "        result.append('Midwest')\n",
    "    elif state in South:\n",
    "        result.append('South')\n",
    "    else:\n",
    "        result.append('West')"
   ]
  },
  {
   "cell_type": "code",
   "execution_count": 11,
   "id": "06bc50aa",
   "metadata": {},
   "outputs": [],
   "source": [
    "# including 'region' column to df\n",
    "df['region']=result"
   ]
  },
  {
   "cell_type": "code",
   "execution_count": 12,
   "id": "f28dfa4d",
   "metadata": {},
   "outputs": [
    {
     "data": {
      "text/plain": [
       "South        10791885\n",
       "West          8292913\n",
       "Midwest       7597325\n",
       "Northeast     5722736\n",
       "Name: region, dtype: int64"
      ]
     },
     "execution_count": 12,
     "metadata": {},
     "output_type": "execute_result"
    }
   ],
   "source": [
    "df['region'].value_counts()"
   ]
  },
  {
   "cell_type": "markdown",
   "id": "1e758bf7",
   "metadata": {},
   "source": [
    "# 4- Determining spending habits between the different U.S. regions"
   ]
  },
  {
   "cell_type": "code",
   "execution_count": 13,
   "id": "2a1dfde8",
   "metadata": {},
   "outputs": [],
   "source": [
    "# Creating a crosstab for region by spending_flag columns\n",
    "cross_habits_region = pd.crosstab(df['region'], df['spender_flag'], dropna = False).sort_index()"
   ]
  },
  {
   "cell_type": "code",
   "execution_count": 14,
   "id": "cb3fed6f",
   "metadata": {},
   "outputs": [
    {
     "data": {
      "text/html": [
       "<div>\n",
       "<style scoped>\n",
       "    .dataframe tbody tr th:only-of-type {\n",
       "        vertical-align: middle;\n",
       "    }\n",
       "\n",
       "    .dataframe tbody tr th {\n",
       "        vertical-align: top;\n",
       "    }\n",
       "\n",
       "    .dataframe thead th {\n",
       "        text-align: right;\n",
       "    }\n",
       "</style>\n",
       "<table border=\"1\" class=\"dataframe\">\n",
       "  <thead>\n",
       "    <tr style=\"text-align: right;\">\n",
       "      <th>spender_flag</th>\n",
       "      <th>High spender</th>\n",
       "      <th>Low spender</th>\n",
       "    </tr>\n",
       "    <tr>\n",
       "      <th>region</th>\n",
       "      <th></th>\n",
       "      <th></th>\n",
       "    </tr>\n",
       "  </thead>\n",
       "  <tbody>\n",
       "    <tr>\n",
       "      <th>Midwest</th>\n",
       "      <td>155975</td>\n",
       "      <td>7441350</td>\n",
       "    </tr>\n",
       "    <tr>\n",
       "      <th>Northeast</th>\n",
       "      <td>108225</td>\n",
       "      <td>5614511</td>\n",
       "    </tr>\n",
       "    <tr>\n",
       "      <th>South</th>\n",
       "      <td>209691</td>\n",
       "      <td>10582194</td>\n",
       "    </tr>\n",
       "    <tr>\n",
       "      <th>West</th>\n",
       "      <td>160354</td>\n",
       "      <td>8132559</td>\n",
       "    </tr>\n",
       "  </tbody>\n",
       "</table>\n",
       "</div>"
      ],
      "text/plain": [
       "spender_flag  High spender  Low spender\n",
       "region                                 \n",
       "Midwest             155975      7441350\n",
       "Northeast           108225      5614511\n",
       "South               209691     10582194\n",
       "West                160354      8132559"
      ]
     },
     "execution_count": 14,
     "metadata": {},
     "output_type": "execute_result"
    }
   ],
   "source": [
    "cross_habits_region"
   ]
  },
  {
   "cell_type": "code",
   "execution_count": 15,
   "id": "ce62816d",
   "metadata": {},
   "outputs": [
    {
     "data": {
      "image/png": "[encoded data removed]",
      "text/plain": [
       "<Figure size 432x288 with 1 Axes>"
      ]
     },
     "metadata": {
      "needs_background": "light"
     },
     "output_type": "display_data"
    }
   ],
   "source": [
    "# Creating a bar chart for spenders by each region.\n",
    "spenders_region_bar = cross_habits_region.plot(kind = 'bar')"
   ]
  },
  {
   "cell_type": "markdown",
   "id": "03d3ff13",
   "metadata": {},
   "source": [
    "It looks like people who spend less (based on the mean of the the prices of products purchased by user is lower than 10) in Instacart more active than people who spend more in products that pricey. "
   ]
  },
  {
   "cell_type": "code",
   "execution_count": 16,
   "id": "e32a30d1",
   "metadata": {},
   "outputs": [
    {
     "data": {
      "image/png": "[encoded data removed]",
      "text/plain": [
       "<Figure size 432x288 with 1 Axes>"
      ]
     },
     "metadata": {},
     "output_type": "display_data"
    }
   ],
   "source": [
    "# Creating a pie chart to see customer distribution by each region\n",
    "customer_region_pie = df['region'].value_counts().plot.pie(autopct = '%1.0f%%')"
   ]
  },
  {
   "cell_type": "markdown",
   "id": "c369e296",
   "metadata": {},
   "source": [
    "South region has the largest number of customers of Intacart. After South, West, Midwest and Northeast have the most customers, respectively."
   ]
  },
  {
   "cell_type": "markdown",
   "id": "b150a53b",
   "metadata": {},
   "source": [
    "# 5- Determining and excluding low-activity customers from the data"
   ]
  },
  {
   "cell_type": "code",
   "execution_count": 17,
   "id": "fc77b822",
   "metadata": {},
   "outputs": [],
   "source": [
    "# Creating a 'activity_flag' column to determine low and high activity customers\n",
    "df.loc[df['max_order'] < 5, 'activity_flag'] = 'low_activity customer'"
   ]
  },
  {
   "cell_type": "code",
   "execution_count": 18,
   "id": "470835bd",
   "metadata": {},
   "outputs": [],
   "source": [
    "df.loc[df['max_order'] >= 5, 'activity_flag'] = 'regular_activity customer'"
   ]
  },
  {
   "cell_type": "code",
   "execution_count": 19,
   "id": "e6bcd382",
   "metadata": {},
   "outputs": [
    {
     "data": {
      "text/plain": [
       "regular_activity customer    30964564\n",
       "low_activity customer         1440295\n",
       "Name: activity_flag, dtype: int64"
      ]
     },
     "execution_count": 19,
     "metadata": {},
     "output_type": "execute_result"
    }
   ],
   "source": [
    "# Check the customerrs' activities\n",
    "df['activity_flag'].value_counts(dropna = False)"
   ]
  },
  {
   "cell_type": "code",
   "execution_count": 20,
   "id": "7b5ddba6",
   "metadata": {},
   "outputs": [],
   "source": [
    "## creating a subset for low_activity customers\n",
    "low_activity_customers = df[df['activity_flag']=='low_activity customer']"
   ]
  },
  {
   "cell_type": "code",
   "execution_count": 21,
   "id": "8ea1e356",
   "metadata": {},
   "outputs": [
    {
     "data": {
      "text/plain": [
       "(1440295, 33)"
      ]
     },
     "execution_count": 21,
     "metadata": {},
     "output_type": "execute_result"
    }
   ],
   "source": [
    "low_activity_customers.shape"
   ]
  },
  {
   "cell_type": "code",
   "execution_count": 22,
   "id": "efe2e959",
   "metadata": {},
   "outputs": [],
   "source": [
    "low_activity_customers.to_csv(os.path.join(path, '02 Data', 'Prepared Data', 'low_activity_customers.csv'))"
   ]
  },
  {
   "cell_type": "code",
   "execution_count": 23,
   "id": "22d2bcb4",
   "metadata": {},
   "outputs": [],
   "source": [
    "# excluding low_activity customers from dataframe\n",
    "df.drop(df[df['activity_flag']=='low_activity customer']. index, inplace = True)"
   ]
  },
  {
   "cell_type": "code",
   "execution_count": 24,
   "id": "97b82103",
   "metadata": {},
   "outputs": [
    {
     "data": {
      "text/plain": [
       "regular_activity customer    30964564\n",
       "Name: activity_flag, dtype: int64"
      ]
     },
     "execution_count": 24,
     "metadata": {},
     "output_type": "execute_result"
    }
   ],
   "source": [
    "df['activity_flag'].value_counts()"
   ]
  },
  {
   "cell_type": "markdown",
   "id": "958b6968",
   "metadata": {},
   "source": [
    "# 6-Creating customer profiles"
   ]
  },
  {
   "cell_type": "markdown",
   "id": "e5606654",
   "metadata": {},
   "source": [
    "## Age group flag"
   ]
  },
  {
   "cell_type": "code",
   "execution_count": 25,
   "id": "b20713ba",
   "metadata": {},
   "outputs": [],
   "source": [
    "# young adults range 18-24\n",
    "df.loc[df['age'] <= 24, 'age_group'] = 'Young adult'\n",
    "#adults range from 25-64\n",
    "df.loc[(df['age'] > 24) & (df['age'] <=64), 'age_group'] = 'Adult' \n",
    "#seniors range from 65 and over\n",
    "df.loc[df['age'] >=65, 'age_group'] = 'Senior'"
   ]
  },
  {
   "cell_type": "code",
   "execution_count": 26,
   "id": "8ddcfab2",
   "metadata": {},
   "outputs": [
    {
     "data": {
      "text/plain": [
       "Adult          19353826\n",
       "Senior          8195544\n",
       "Young adult     3415194\n",
       "Name: age_group, dtype: int64"
      ]
     },
     "execution_count": 26,
     "metadata": {},
     "output_type": "execute_result"
    }
   ],
   "source": [
    "df['age_group'].value_counts()"
   ]
  },
  {
   "cell_type": "markdown",
   "id": "12067167",
   "metadata": {},
   "source": [
    "## Income flag"
   ]
  },
  {
   "cell_type": "code",
   "execution_count": 27,
   "id": "4dc4e7cc",
   "metadata": {},
   "outputs": [],
   "source": [
    "# Based on official income ranges for the US in 2019\n",
    "#Low income range less and equal to 52000\n",
    "df.loc[df['income'] <= 52000, 'income_flag'] = 'Low income'\n",
    "#Middle income ranges 52,000-156,000\n",
    "df.loc[(df['income'] > 52000) & (df['income'] <=156000), 'income_flag'] = 'Middle income' \n",
    "# Upper income ranges from 156,000 and higher\n",
    "df.loc[df['income'] > 156000, 'income_flag'] = 'Upper income'"
   ]
  },
  {
   "cell_type": "code",
   "execution_count": 28,
   "id": "d6fee6d9",
   "metadata": {},
   "outputs": [
    {
     "data": {
      "text/plain": [
       "Middle income    24490104\n",
       "Low income        3632814\n",
       "Upper income      2841646\n",
       "Name: income_flag, dtype: int64"
      ]
     },
     "execution_count": 28,
     "metadata": {},
     "output_type": "execute_result"
    }
   ],
   "source": [
    "df['income_flag'].value_counts()"
   ]
  },
  {
   "cell_type": "markdown",
   "id": "c77aaee0",
   "metadata": {},
   "source": [
    "## Marital status"
   ]
  },
  {
   "cell_type": "code",
   "execution_count": 29,
   "id": "2a84034c",
   "metadata": {},
   "outputs": [
    {
     "data": {
      "text/plain": [
       "married                             21743711\n",
       "single                               5094410\n",
       "divorced/widowed                     2645271\n",
       "living with parents and siblings     1481172\n",
       "Name: marital_status, dtype: int64"
      ]
     },
     "execution_count": 29,
     "metadata": {},
     "output_type": "execute_result"
    }
   ],
   "source": [
    "df['marital_status'].value_counts()"
   ]
  },
  {
   "cell_type": "markdown",
   "id": "4ba0e70d",
   "metadata": {},
   "source": [
    "## Dependents flag"
   ]
  },
  {
   "cell_type": "code",
   "execution_count": 30,
   "id": "8b6c5fb9",
   "metadata": {},
   "outputs": [],
   "source": [
    "#customers with 0 dependents are 'no dependents' customers\n",
    "df.loc[df['number_of_dependants']== 0, 'dependent_flag'] = 'No dependents'\n",
    "#customers with more than 0 dependents are 'parents'\n",
    "df.loc[df['number_of_dependants'] > 0, 'dependent_flag'] = 'Parent'\n"
   ]
  },
  {
   "cell_type": "code",
   "execution_count": 31,
   "id": "dd705742",
   "metadata": {},
   "outputs": [
    {
     "data": {
      "text/plain": [
       "Parent           23224883\n",
       "No dependents     7739681\n",
       "Name: dependent_flag, dtype: int64"
      ]
     },
     "execution_count": 31,
     "metadata": {},
     "output_type": "execute_result"
    }
   ],
   "source": [
    "df['dependent_flag'].value_counts()"
   ]
  },
  {
   "cell_type": "markdown",
   "id": "0b843c8a",
   "metadata": {},
   "source": [
    "## Department flag"
   ]
  },
  {
   "cell_type": "code",
   "execution_count": 32,
   "id": "c8473c2e",
   "metadata": {},
   "outputs": [],
   "source": [
    "#import data from departments dataset\n",
    "dep = pd.read_csv(os.path.join(path, '02 Data', 'Prepared Data', 'departments_wrangle.csv'))"
   ]
  },
  {
   "cell_type": "code",
   "execution_count": 33,
   "id": "67252e61",
   "metadata": {},
   "outputs": [
    {
     "data": {
      "text/html": [
       "<div>\n",
       "<style scoped>\n",
       "    .dataframe tbody tr th:only-of-type {\n",
       "        vertical-align: middle;\n",
       "    }\n",
       "\n",
       "    .dataframe tbody tr th {\n",
       "        vertical-align: top;\n",
       "    }\n",
       "\n",
       "    .dataframe thead th {\n",
       "        text-align: right;\n",
       "    }\n",
       "</style>\n",
       "<table border=\"1\" class=\"dataframe\">\n",
       "  <thead>\n",
       "    <tr style=\"text-align: right;\">\n",
       "      <th></th>\n",
       "      <th>department_id</th>\n",
       "      <th>department</th>\n",
       "    </tr>\n",
       "  </thead>\n",
       "  <tbody>\n",
       "    <tr>\n",
       "      <th>0</th>\n",
       "      <td>1</td>\n",
       "      <td>frozen</td>\n",
       "    </tr>\n",
       "    <tr>\n",
       "      <th>1</th>\n",
       "      <td>2</td>\n",
       "      <td>other</td>\n",
       "    </tr>\n",
       "    <tr>\n",
       "      <th>2</th>\n",
       "      <td>3</td>\n",
       "      <td>bakery</td>\n",
       "    </tr>\n",
       "    <tr>\n",
       "      <th>3</th>\n",
       "      <td>4</td>\n",
       "      <td>produce</td>\n",
       "    </tr>\n",
       "    <tr>\n",
       "      <th>4</th>\n",
       "      <td>5</td>\n",
       "      <td>alcohol</td>\n",
       "    </tr>\n",
       "    <tr>\n",
       "      <th>5</th>\n",
       "      <td>6</td>\n",
       "      <td>international</td>\n",
       "    </tr>\n",
       "    <tr>\n",
       "      <th>6</th>\n",
       "      <td>7</td>\n",
       "      <td>beverages</td>\n",
       "    </tr>\n",
       "    <tr>\n",
       "      <th>7</th>\n",
       "      <td>8</td>\n",
       "      <td>pets</td>\n",
       "    </tr>\n",
       "    <tr>\n",
       "      <th>8</th>\n",
       "      <td>9</td>\n",
       "      <td>dry goods pasta</td>\n",
       "    </tr>\n",
       "    <tr>\n",
       "      <th>9</th>\n",
       "      <td>10</td>\n",
       "      <td>bulk</td>\n",
       "    </tr>\n",
       "    <tr>\n",
       "      <th>10</th>\n",
       "      <td>11</td>\n",
       "      <td>personal care</td>\n",
       "    </tr>\n",
       "    <tr>\n",
       "      <th>11</th>\n",
       "      <td>12</td>\n",
       "      <td>meat seafood</td>\n",
       "    </tr>\n",
       "    <tr>\n",
       "      <th>12</th>\n",
       "      <td>13</td>\n",
       "      <td>pantry</td>\n",
       "    </tr>\n",
       "    <tr>\n",
       "      <th>13</th>\n",
       "      <td>14</td>\n",
       "      <td>breakfast</td>\n",
       "    </tr>\n",
       "    <tr>\n",
       "      <th>14</th>\n",
       "      <td>15</td>\n",
       "      <td>canned goods</td>\n",
       "    </tr>\n",
       "    <tr>\n",
       "      <th>15</th>\n",
       "      <td>16</td>\n",
       "      <td>dairy eggs</td>\n",
       "    </tr>\n",
       "    <tr>\n",
       "      <th>16</th>\n",
       "      <td>17</td>\n",
       "      <td>household</td>\n",
       "    </tr>\n",
       "    <tr>\n",
       "      <th>17</th>\n",
       "      <td>18</td>\n",
       "      <td>babies</td>\n",
       "    </tr>\n",
       "    <tr>\n",
       "      <th>18</th>\n",
       "      <td>19</td>\n",
       "      <td>snacks</td>\n",
       "    </tr>\n",
       "    <tr>\n",
       "      <th>19</th>\n",
       "      <td>20</td>\n",
       "      <td>deli</td>\n",
       "    </tr>\n",
       "    <tr>\n",
       "      <th>20</th>\n",
       "      <td>21</td>\n",
       "      <td>missing</td>\n",
       "    </tr>\n",
       "  </tbody>\n",
       "</table>\n",
       "</div>"
      ],
      "text/plain": [
       "    department_id       department\n",
       "0               1           frozen\n",
       "1               2            other\n",
       "2               3           bakery\n",
       "3               4          produce\n",
       "4               5          alcohol\n",
       "5               6    international\n",
       "6               7        beverages\n",
       "7               8             pets\n",
       "8               9  dry goods pasta\n",
       "9              10             bulk\n",
       "10             11    personal care\n",
       "11             12     meat seafood\n",
       "12             13           pantry\n",
       "13             14        breakfast\n",
       "14             15     canned goods\n",
       "15             16       dairy eggs\n",
       "16             17        household\n",
       "17             18           babies\n",
       "18             19           snacks\n",
       "19             20             deli\n",
       "20             21          missing"
      ]
     },
     "execution_count": 33,
     "metadata": {},
     "output_type": "execute_result"
    }
   ],
   "source": [
    "dep[['department_id', 'department']]"
   ]
  },
  {
   "cell_type": "code",
   "execution_count": 34,
   "id": "a22aedc9",
   "metadata": {},
   "outputs": [],
   "source": [
    "# create a flag for pet owners. \n",
    "#'8' is the department_id for 'pet' departments. \n",
    "# I will create a pet_flag for people who purchased from pet deparment.\n",
    "result_2 = []\n",
    "for value in df['department_id']:\n",
    "    if value == 8:\n",
    "        result_2.append('pet owner')\n",
    "    else:\n",
    "        result_2.append('no pets')"
   ]
  },
  {
   "cell_type": "code",
   "execution_count": 35,
   "id": "edd9055d",
   "metadata": {},
   "outputs": [],
   "source": [
    "df['pet_owners'] = result_2"
   ]
  },
  {
   "cell_type": "markdown",
   "id": "573af524",
   "metadata": {},
   "source": [
    "# 7- Visualizations for customer profiles"
   ]
  },
  {
   "cell_type": "markdown",
   "id": "b0449ab1",
   "metadata": {},
   "source": [
    "## Age group visualization"
   ]
  },
  {
   "cell_type": "code",
   "execution_count": 36,
   "id": "4de1c317",
   "metadata": {},
   "outputs": [
    {
     "data": {
      "image/png": "[encoded data removed]",
      "text/plain": [
       "<Figure size 432x288 with 1 Axes>"
      ]
     },
     "metadata": {
      "needs_background": "light"
     },
     "output_type": "display_data"
    }
   ],
   "source": [
    "age_bar=df['age_group'].value_counts().plot.bar(color='green',fontsize=20)"
   ]
  },
  {
   "cell_type": "code",
   "execution_count": 37,
   "id": "fbd47b30",
   "metadata": {},
   "outputs": [],
   "source": [
    "# creating a age distribution chart by region\n",
    "age_regional = pd.crosstab(df['region'], df['age_group'], dropna = False). sort_index()"
   ]
  },
  {
   "cell_type": "code",
   "execution_count": 38,
   "id": "57486ccf",
   "metadata": {},
   "outputs": [
    {
     "data": {
      "text/html": [
       "<div>\n",
       "<style scoped>\n",
       "    .dataframe tbody tr th:only-of-type {\n",
       "        vertical-align: middle;\n",
       "    }\n",
       "\n",
       "    .dataframe tbody tr th {\n",
       "        vertical-align: top;\n",
       "    }\n",
       "\n",
       "    .dataframe thead th {\n",
       "        text-align: right;\n",
       "    }\n",
       "</style>\n",
       "<table border=\"1\" class=\"dataframe\">\n",
       "  <thead>\n",
       "    <tr style=\"text-align: right;\">\n",
       "      <th>age_group</th>\n",
       "      <th>Adult</th>\n",
       "      <th>Senior</th>\n",
       "      <th>Young adult</th>\n",
       "    </tr>\n",
       "    <tr>\n",
       "      <th>region</th>\n",
       "      <th></th>\n",
       "      <th></th>\n",
       "      <th></th>\n",
       "    </tr>\n",
       "  </thead>\n",
       "  <tbody>\n",
       "    <tr>\n",
       "      <th>Midwest</th>\n",
       "      <td>4565841</td>\n",
       "      <td>1904046</td>\n",
       "      <td>791626</td>\n",
       "    </tr>\n",
       "    <tr>\n",
       "      <th>Northeast</th>\n",
       "      <td>3377088</td>\n",
       "      <td>1484807</td>\n",
       "      <td>602790</td>\n",
       "    </tr>\n",
       "    <tr>\n",
       "      <th>South</th>\n",
       "      <td>6437542</td>\n",
       "      <td>2708461</td>\n",
       "      <td>1165136</td>\n",
       "    </tr>\n",
       "    <tr>\n",
       "      <th>West</th>\n",
       "      <td>4973355</td>\n",
       "      <td>2098230</td>\n",
       "      <td>855642</td>\n",
       "    </tr>\n",
       "  </tbody>\n",
       "</table>\n",
       "</div>"
      ],
      "text/plain": [
       "age_group    Adult   Senior  Young adult\n",
       "region                                  \n",
       "Midwest    4565841  1904046       791626\n",
       "Northeast  3377088  1484807       602790\n",
       "South      6437542  2708461      1165136\n",
       "West       4973355  2098230       855642"
      ]
     },
     "execution_count": 38,
     "metadata": {},
     "output_type": "execute_result"
    }
   ],
   "source": [
    "age_regional"
   ]
  },
  {
   "cell_type": "code",
   "execution_count": 39,
   "id": "52500e87",
   "metadata": {},
   "outputs": [
    {
     "data": {
      "text/plain": [
       "Text(0.5, 0, 'region')"
      ]
     },
     "execution_count": 39,
     "metadata": {},
     "output_type": "execute_result"
    },
    {
     "data": {
      "image/png": "[encoded data removed]",
      "text/plain": [
       "<Figure size 864x720 with 1 Axes>"
      ]
     },
     "metadata": {
      "needs_background": "light"
     },
     "output_type": "display_data"
    }
   ],
   "source": [
    "region_frequency_dist=age_regional.plot(kind='bar', \n",
    "                        stacked=True, \n",
    "                        color=['#54a868','#de8452','#4b72af'], \n",
    "                        figsize=(12,10))\n",
    "\n",
    "plt.legend(loc=\"upper center\", ncol=3)\n",
    "plt.ylabel(\"proportion\")\n",
    "plt.xlabel(\"region\")\n",
    "\n"
   ]
  },
  {
   "cell_type": "markdown",
   "id": "79814270",
   "metadata": {},
   "source": [
    "Adults make up the largest portion of Instacart customers. Seniors are in the second place at this portion, then young adults come after seniors. "
   ]
  },
  {
   "cell_type": "markdown",
   "id": "b62f45b3",
   "metadata": {},
   "source": [
    "## Income visualization"
   ]
  },
  {
   "cell_type": "code",
   "execution_count": 40,
   "id": "c6926c8c",
   "metadata": {},
   "outputs": [
    {
     "data": {
      "image/png": "[encoded data removed]",
      "text/plain": [
       "<Figure size 432x288 with 1 Axes>"
      ]
     },
     "metadata": {
      "needs_background": "light"
     },
     "output_type": "display_data"
    }
   ],
   "source": [
    "# income distribution\n",
    "income_bar=df['income_flag'].value_counts().sort_values().plot.barh(color='#54a868', fontsize=20)"
   ]
  },
  {
   "cell_type": "code",
   "execution_count": 41,
   "id": "b5c02efd",
   "metadata": {},
   "outputs": [],
   "source": [
    "# Determine in what price range the people with specific income buy the products.\n",
    "# create crosstab\n",
    "income_cross=pd.crosstab(df['income_flag'],df['price_range_loc'],normalize='index', dropna=False)"
   ]
  },
  {
   "cell_type": "code",
   "execution_count": 42,
   "id": "20c627ea",
   "metadata": {},
   "outputs": [
    {
     "data": {
      "image/png": "[encoded data removed]",
      "text/plain": [
       "<Figure size 432x288 with 1 Axes>"
      ]
     },
     "metadata": {
      "needs_background": "light"
     },
     "output_type": "display_data"
    }
   ],
   "source": [
    "# create a bar chart\n",
    "income_cross_bar = income_cross.plot(kind = 'bar')"
   ]
  },
  {
   "cell_type": "markdown",
   "id": "90e7fe0b",
   "metadata": {},
   "source": [
    "People in differents incomes buy mid-range products most. "
   ]
  },
  {
   "cell_type": "markdown",
   "id": "ff45dbc4",
   "metadata": {},
   "source": [
    "## Marital status visualization"
   ]
  },
  {
   "cell_type": "code",
   "execution_count": 43,
   "id": "c6539f25",
   "metadata": {},
   "outputs": [
    {
     "data": {
      "image/png": "[encoded data removed]",
      "text/plain": [
       "<Figure size 432x288 with 1 Axes>"
      ]
     },
     "metadata": {
      "needs_background": "light"
     },
     "output_type": "display_data"
    }
   ],
   "source": [
    "age_marital_bar=df.groupby('age_group')['marital_status'].value_counts().sort_values(ascending=False).unstack().plot.barh(\n",
    "    stacked=True,ylabel='counts',color=['#F46B6A','#de8452','#4b72af','#54a868'], fontsize=20)"
   ]
  },
  {
   "cell_type": "markdown",
   "id": "3e77e146",
   "metadata": {},
   "source": [
    "The largest part of young adults live with their parents and siblings. On the other hand, the largest part of adults and seniors are married."
   ]
  },
  {
   "cell_type": "markdown",
   "id": "ea4e1773",
   "metadata": {},
   "source": [
    "## Dependent visualization"
   ]
  },
  {
   "cell_type": "code",
   "execution_count": 44,
   "id": "c2527da9",
   "metadata": {},
   "outputs": [
    {
     "data": {
      "image/png": "[encoded data removed]",
      "text/plain": [
       "<Figure size 432x288 with 1 Axes>"
      ]
     },
     "metadata": {
      "needs_background": "light"
     },
     "output_type": "display_data"
    }
   ],
   "source": [
    "# determine dependent customers in Instacart\n",
    "dependent_bar = df['dependent_flag'].value_counts().plot.bar()"
   ]
  },
  {
   "cell_type": "markdown",
   "id": "837371f4",
   "metadata": {},
   "source": [
    "Parents are more active in Instacart."
   ]
  },
  {
   "cell_type": "code",
   "execution_count": 45,
   "id": "f9ecef12",
   "metadata": {},
   "outputs": [],
   "source": [
    "# examine customers' activity based on dependent status\n",
    "dependent_customer_behavior = pd.crosstab(df['dependent_flag'], df['customer_behavior'], dropna =False)"
   ]
  },
  {
   "cell_type": "code",
   "execution_count": 46,
   "id": "cddefdc8",
   "metadata": {},
   "outputs": [
    {
     "data": {
      "text/html": [
       "<div>\n",
       "<style scoped>\n",
       "    .dataframe tbody tr th:only-of-type {\n",
       "        vertical-align: middle;\n",
       "    }\n",
       "\n",
       "    .dataframe tbody tr th {\n",
       "        vertical-align: top;\n",
       "    }\n",
       "\n",
       "    .dataframe thead th {\n",
       "        text-align: right;\n",
       "    }\n",
       "</style>\n",
       "<table border=\"1\" class=\"dataframe\">\n",
       "  <thead>\n",
       "    <tr style=\"text-align: right;\">\n",
       "      <th>customer_behavior</th>\n",
       "      <th>Frequent customer</th>\n",
       "      <th>Non-frequent customer</th>\n",
       "      <th>Regular customer</th>\n",
       "    </tr>\n",
       "    <tr>\n",
       "      <th>dependent_flag</th>\n",
       "      <th></th>\n",
       "      <th></th>\n",
       "      <th></th>\n",
       "    </tr>\n",
       "  </thead>\n",
       "  <tbody>\n",
       "    <tr>\n",
       "      <th>No dependents</th>\n",
       "      <td>5544082</td>\n",
       "      <td>540110</td>\n",
       "      <td>1655489</td>\n",
       "    </tr>\n",
       "    <tr>\n",
       "      <th>Parent</th>\n",
       "      <td>16664812</td>\n",
       "      <td>1647307</td>\n",
       "      <td>4912764</td>\n",
       "    </tr>\n",
       "  </tbody>\n",
       "</table>\n",
       "</div>"
      ],
      "text/plain": [
       "customer_behavior  Frequent customer  Non-frequent customer  Regular customer\n",
       "dependent_flag                                                               \n",
       "No dependents                5544082                 540110           1655489\n",
       "Parent                      16664812                1647307           4912764"
      ]
     },
     "execution_count": 46,
     "metadata": {},
     "output_type": "execute_result"
    }
   ],
   "source": [
    "dependent_customer_behavior"
   ]
  },
  {
   "cell_type": "code",
   "execution_count": 47,
   "id": "c4a53550",
   "metadata": {},
   "outputs": [
    {
     "data": {
      "image/png": "[encoded data removed]",
      "text/plain": [
       "<Figure size 432x288 with 1 Axes>"
      ]
     },
     "metadata": {
      "needs_background": "light"
     },
     "output_type": "display_data"
    }
   ],
   "source": [
    "dependent_cust_bar = dependent_customer_behavior.plot.bar()"
   ]
  },
  {
   "cell_type": "markdown",
   "id": "d11272ea",
   "metadata": {},
   "source": [
    "## Department visualization"
   ]
  },
  {
   "cell_type": "code",
   "execution_count": 48,
   "id": "a3a8e6de",
   "metadata": {},
   "outputs": [],
   "source": [
    "# merge 'dep' dataframe and df data to determine deparments based on 'deparment_id's\n",
    "df_dep_merge = df.merge(dep, on = 'department_id')"
   ]
  },
  {
   "cell_type": "code",
   "execution_count": 49,
   "id": "3021431d",
   "metadata": {},
   "outputs": [
    {
     "data": {
      "image/png": "[encoded data removed]",
      "text/plain": [
       "<Figure size 432x288 with 1 Axes>"
      ]
     },
     "metadata": {
      "needs_background": "light"
     },
     "output_type": "display_data"
    }
   ],
   "source": [
    "dep_bar = df_dep_merge['department'].value_counts().sort_values().plot.barh()\n"
   ]
  },
  {
   "cell_type": "markdown",
   "id": "45ed3823",
   "metadata": {},
   "source": [
    "## Customer loyalty visualization"
   ]
  },
  {
   "cell_type": "code",
   "execution_count": 50,
   "id": "812a9043",
   "metadata": {},
   "outputs": [],
   "source": [
    "df_loyalty = df[['user_id', 'loyalty_flag']]"
   ]
  },
  {
   "cell_type": "code",
   "execution_count": 51,
   "id": "e3675692",
   "metadata": {},
   "outputs": [],
   "source": [
    "# df_loyalty dataframe had duplicates, we need to remove to dublicates\n",
    "df_loyalty_unique = df_loyalty.drop_duplicates()"
   ]
  },
  {
   "cell_type": "code",
   "execution_count": 52,
   "id": "7122d9dd",
   "metadata": {},
   "outputs": [
    {
     "data": {
      "image/png": "[encoded data removed]",
      "text/plain": [
       "<Figure size 432x288 with 1 Axes>"
      ]
     },
     "metadata": {},
     "output_type": "display_data"
    }
   ],
   "source": [
    "# create a pie chart to show distribution the customers' loyalties\n",
    "loyalty_pie = df_loyalty_unique['loyalty_flag'].value_counts().plot.pie(autopct = '%1.0f%%')"
   ]
  },
  {
   "cell_type": "code",
   "execution_count": 53,
   "id": "ec3cd6e0",
   "metadata": {},
   "outputs": [
    {
     "data": {
      "text/plain": [
       "Regular customer    76864\n",
       "New customer        68750\n",
       "Loyal customer      17017\n",
       "Name: loyalty_flag, dtype: int64"
      ]
     },
     "execution_count": 53,
     "metadata": {},
     "output_type": "execute_result"
    }
   ],
   "source": [
    "df_loyalty_unique['loyalty_flag'].value_counts()"
   ]
  },
  {
   "cell_type": "markdown",
   "id": "a2bd4bda",
   "metadata": {},
   "source": [
    "# 8- Aggregating the max, mean, min on a customer profile for usage frequency"
   ]
  },
  {
   "cell_type": "markdown",
   "id": "74d4fc73",
   "metadata": {},
   "source": [
    "## Aggregating for loyalty expenditure\n"
   ]
  },
  {
   "cell_type": "code",
   "execution_count": 54,
   "id": "a09c9bce",
   "metadata": {},
   "outputs": [
    {
     "data": {
      "text/html": [
       "<div>\n",
       "<style scoped>\n",
       "    .dataframe tbody tr th:only-of-type {\n",
       "        vertical-align: middle;\n",
       "    }\n",
       "\n",
       "    .dataframe tbody tr th {\n",
       "        vertical-align: top;\n",
       "    }\n",
       "\n",
       "    .dataframe thead tr th {\n",
       "        text-align: left;\n",
       "    }\n",
       "\n",
       "    .dataframe thead tr:last-of-type th {\n",
       "        text-align: right;\n",
       "    }\n",
       "</style>\n",
       "<table border=\"1\" class=\"dataframe\">\n",
       "  <thead>\n",
       "    <tr>\n",
       "      <th></th>\n",
       "      <th colspan=\"3\" halign=\"left\">prices</th>\n",
       "    </tr>\n",
       "    <tr>\n",
       "      <th></th>\n",
       "      <th>mean</th>\n",
       "      <th>min</th>\n",
       "      <th>max</th>\n",
       "    </tr>\n",
       "    <tr>\n",
       "      <th>loyalty_flag</th>\n",
       "      <th></th>\n",
       "      <th></th>\n",
       "      <th></th>\n",
       "    </tr>\n",
       "  </thead>\n",
       "  <tbody>\n",
       "    <tr>\n",
       "      <th>Loyal customer</th>\n",
       "      <td>10.386336</td>\n",
       "      <td>1.0</td>\n",
       "      <td>99999.0</td>\n",
       "    </tr>\n",
       "    <tr>\n",
       "      <th>New customer</th>\n",
       "      <td>13.387725</td>\n",
       "      <td>1.0</td>\n",
       "      <td>99999.0</td>\n",
       "    </tr>\n",
       "    <tr>\n",
       "      <th>Regular customer</th>\n",
       "      <td>12.495717</td>\n",
       "      <td>1.0</td>\n",
       "      <td>99999.0</td>\n",
       "    </tr>\n",
       "  </tbody>\n",
       "</table>\n",
       "</div>"
      ],
      "text/plain": [
       "                     prices              \n",
       "                       mean  min      max\n",
       "loyalty_flag                             \n",
       "Loyal customer    10.386336  1.0  99999.0\n",
       "New customer      13.387725  1.0  99999.0\n",
       "Regular customer  12.495717  1.0  99999.0"
      ]
     },
     "execution_count": 54,
     "metadata": {},
     "output_type": "execute_result"
    }
   ],
   "source": [
    "df.groupby('loyalty_flag').agg({'prices': ['mean', 'min', 'max']})"
   ]
  },
  {
   "cell_type": "markdown",
   "id": "1c80e895",
   "metadata": {},
   "source": [
    "## Aggragating for loyalty order frequency"
   ]
  },
  {
   "cell_type": "code",
   "execution_count": 55,
   "id": "089dc95d",
   "metadata": {},
   "outputs": [
    {
     "data": {
      "text/html": [
       "<div>\n",
       "<style scoped>\n",
       "    .dataframe tbody tr th:only-of-type {\n",
       "        vertical-align: middle;\n",
       "    }\n",
       "\n",
       "    .dataframe tbody tr th {\n",
       "        vertical-align: top;\n",
       "    }\n",
       "\n",
       "    .dataframe thead tr th {\n",
       "        text-align: left;\n",
       "    }\n",
       "\n",
       "    .dataframe thead tr:last-of-type th {\n",
       "        text-align: right;\n",
       "    }\n",
       "</style>\n",
       "<table border=\"1\" class=\"dataframe\">\n",
       "  <thead>\n",
       "    <tr>\n",
       "      <th></th>\n",
       "      <th colspan=\"3\" halign=\"left\">median_order_frequency</th>\n",
       "    </tr>\n",
       "    <tr>\n",
       "      <th></th>\n",
       "      <th>mean</th>\n",
       "      <th>min</th>\n",
       "      <th>max</th>\n",
       "    </tr>\n",
       "    <tr>\n",
       "      <th>loyalty_flag</th>\n",
       "      <th></th>\n",
       "      <th></th>\n",
       "      <th></th>\n",
       "    </tr>\n",
       "  </thead>\n",
       "  <tbody>\n",
       "    <tr>\n",
       "      <th>Loyal customer</th>\n",
       "      <td>5.109445</td>\n",
       "      <td>0.0</td>\n",
       "      <td>14.0</td>\n",
       "    </tr>\n",
       "    <tr>\n",
       "      <th>New customer</th>\n",
       "      <td>15.954754</td>\n",
       "      <td>0.0</td>\n",
       "      <td>30.0</td>\n",
       "    </tr>\n",
       "    <tr>\n",
       "      <th>Regular customer</th>\n",
       "      <td>10.074591</td>\n",
       "      <td>0.0</td>\n",
       "      <td>30.0</td>\n",
       "    </tr>\n",
       "  </tbody>\n",
       "</table>\n",
       "</div>"
      ],
      "text/plain": [
       "                 median_order_frequency           \n",
       "                                   mean  min   max\n",
       "loyalty_flag                                      \n",
       "Loyal customer                 5.109445  0.0  14.0\n",
       "New customer                  15.954754  0.0  30.0\n",
       "Regular customer              10.074591  0.0  30.0"
      ]
     },
     "execution_count": 55,
     "metadata": {},
     "output_type": "execute_result"
    }
   ],
   "source": [
    "df.groupby('loyalty_flag').agg({'median_order_frequency': ['mean', 'min', 'max']})"
   ]
  },
  {
   "cell_type": "markdown",
   "id": "33311deb",
   "metadata": {},
   "source": [
    "Loyal customer orders more frequently from Instacart. On average, they place an order every 5 days. Regular customers order every 10 days, new customers order every 16 days on average."
   ]
  },
  {
   "cell_type": "markdown",
   "id": "77225e24",
   "metadata": {},
   "source": [
    "# 9- Exporting visualaizations and final dataset"
   ]
  },
  {
   "cell_type": "code",
   "execution_count": null,
   "id": "6a92097d",
   "metadata": {},
   "outputs": [],
   "source": [
    "# export the final dataset\n",
    "df.to_pickle(os.path.join(path, '02 Data', 'Prepared Data', 'final_dataset.pkl'))"
   ]
  },
  {
   "cell_type": "code",
   "execution_count": null,
   "id": "83249ef2",
   "metadata": {},
   "outputs": [],
   "source": [
    "# export the charts\n",
    "spenders_region_bar.figure.savefig(os.path.join(path, '04 Analysis', 'Visualizations', ' spenders_region_bar.png' ))\n",
    "customer_region_pie.figure.savefig(os.path.join(path, '04 Analysis','Visualizations','customer_region_dist_pie.png'))\n",
    "age_bar.figure.savefig(os.path.join(path, '04 Analysis','Visualizations', 'age_group_bar.png'))\n",
    "region_frequency_dist.figure.savefig(os.path.join(path, '04 Analysis', 'Visualizations', 'age_region_stackedbar.png'))\n",
    "income_bar.figure.savefig(os.path.join(path, '04 Analysis', 'Visualizations', ' income_bar.png' ))\n",
    "income_cross_bar.figure.savefig(os.path.join(path, '04 Analysis', 'Visualizations', ' income_product_price_bar.png' ))\n",
    "age_marital_bar.figure.savefig(os.path.join(path, '04 Analysis', 'Visualizations', 'age_marital_bar.png' ))\n",
    "dependent_bar.figure.savefig(os.path.join(path, '04 Analysis', 'Visualizations', ' dependent_bar.png' ))\n",
    "dependent_cust_bar.figure.savefig(os.path.join(path, '04 Analysis', 'Visualizations', ' dependent_cust_frequency_bar.png' ))\n",
    "dep_bar.figure.savefig(os.path.join(path, '04 Analysis', 'Visualizations', ' department_bar.png' ))\n",
    "loyalty_pie.figure.savefig(os.path.join(path, '04 Analysis', 'Visualizations', ' loyalty_pie.png' ))"
   ]
  }
 ],
 "metadata": {
  "kernelspec": {
   "display_name": "Python 3 (ipykernel)",
   "language": "python",
   "name": "python3"
  },
  "language_info": {
   "codemirror_mode": {
    "name": "ipython",
    "version": 3
   },
   "file_extension": ".py",
   "mimetype": "text/x-python",
   "name": "python",
   "nbconvert_exporter": "python",
   "pygments_lexer": "ipython3",
   "version": "3.9.12"
  }
 },
 "nbformat": 4,
 "nbformat_minor": 5
}
